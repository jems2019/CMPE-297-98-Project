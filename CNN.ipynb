{
  "nbformat": 4,
  "nbformat_minor": 0,
  "metadata": {
    "colab": {
      "name": "CNN.ipynb",
      "provenance": [],
      "collapsed_sections": [],
      "toc_visible": true,
      "include_colab_link": true
    },
    "kernelspec": {
      "name": "python3",
      "display_name": "Python 3"
    },
    "accelerator": "GPU"
  },
  "cells": [
    {
      "cell_type": "markdown",
      "metadata": {
        "id": "view-in-github",
        "colab_type": "text"
      },
      "source": [
        "<a href=\"https://colab.research.google.com/github/jems2019/CMPE-297-98-Project/blob/master/CNN.ipynb\" target=\"_parent\"><img src=\"https://colab.research.google.com/assets/colab-badge.svg\" alt=\"Open In Colab\"/></a>"
      ]
    },
    {
      "cell_type": "code",
      "metadata": {
        "id": "zt57felJNeRq",
        "colab_type": "code",
        "colab": {}
      },
      "source": [
        "import numpy as np\n",
        "import pandas as pd\n",
        "from time import time\n",
        "import os\n",
        "\n",
        "\n",
        "from sklearn.model_selection import train_test_split\n",
        "\n",
        "\n",
        "# import keras\n",
        "# import keras.layers as layers\n",
        "# from keras.layers import Dense, Conv2D, MaxPool2D , Flatten, BatchNormalization, Activation\n",
        "# from keras.models import Sequential\n",
        "# from keras.preprocessing.image import ImageDataGenerator\n",
        "# from keras.utils.np_utils import to_categorical\n",
        "# from keras.callbacks import TensorBoard, ModelCheckpoint, EarlyStopping\n",
        "# from keras.optimizers import Adam, SGD\n",
        "\n",
        "\n",
        "import tensorflow as tf\n",
        "from tensorflow import keras\n",
        "from keras.callbacks import TensorBoard, ModelCheckpoint, EarlyStopping\n",
        "from tensorflow.keras.preprocessing.image import ImageDataGenerator\n",
        "from tensorflow.keras.layers import Conv2D, AveragePooling2D, MaxPool2D, Flatten, Dense, BatchNormalization, Dropout, Activation\n",
        "from tensorflow.keras.optimizers import Adam, SGD\n",
        "from tensorflow.keras.callbacks import LearningRateScheduler\n",
        "\n",
        "\n",
        "%matplotlib inline\n",
        "import matplotlib.pyplot as plt\n",
        "import seaborn as sns\n",
        "sns.set()\n"
      ],
      "execution_count": 0,
      "outputs": []
    },
    {
      "cell_type": "code",
      "metadata": {
        "id": "XMoFNcZcDgtX",
        "colab_type": "code",
        "outputId": "12c836b6-c454-4fba-ffe4-39203c5c7a14",
        "colab": {
          "base_uri": "https://localhost:8080/",
          "height": 34
        }
      },
      "source": [
        "from google.colab import drive\n",
        "drive.mount('/content/drive')"
      ],
      "execution_count": 0,
      "outputs": [
        {
          "output_type": "stream",
          "text": [
            "Drive already mounted at /content/drive; to attempt to forcibly remount, call drive.mount(\"/content/drive\", force_remount=True).\n"
          ],
          "name": "stdout"
        }
      ]
    },
    {
      "cell_type": "code",
      "metadata": {
        "id": "MlkOHST7ES9J",
        "colab_type": "code",
        "outputId": "a43fe4cf-7bf6-4367-a85a-b05d8ef0ee7f",
        "colab": {
          "base_uri": "https://localhost:8080/",
          "height": 51
        }
      },
      "source": [
        "from tensorflow.keras.preprocessing.image import ImageDataGenerator\n",
        "BATCH = 32\n",
        "imagegen = ImageDataGenerator(\n",
        "    rescale=1./255,\n",
        "    zoom_range=.1,\n",
        "    width_shift_range=.1,\n",
        "    height_shift_range=.1,\n",
        "    rotation_range=30,\n",
        "    horizontal_flip=True,\n",
        "    validation_split=.2\n",
        "    )\n",
        "train_generator = imagegen.flow_from_directory(\n",
        "    directory='/content/drive/My Drive/Emerging Technologies Project - AI based trading platform/split_date_images',\n",
        "    class_mode='categorical',\n",
        "    target_size=(224,224),\n",
        "    subset='training',\n",
        "    batch_size=BATCH)\n",
        "val_generator = imagegen.flow_from_directory(\n",
        "    directory='/content/drive/My Drive/Emerging Technologies Project - AI based trading platform/split_date_images',\n",
        "    class_mode='categorical',\n",
        "    target_size=(224,224),\n",
        "    subset='validation',\n",
        "    batch_size=BATCH)"
      ],
      "execution_count": 0,
      "outputs": [
        {
          "output_type": "stream",
          "text": [
            "Found 1876 images belonging to 3 classes.\n",
            "Found 468 images belonging to 3 classes.\n"
          ],
          "name": "stdout"
        }
      ]
    },
    {
      "cell_type": "code",
      "metadata": {
        "id": "aLFkancDTh_X",
        "colab_type": "code",
        "outputId": "18e67178-77ba-4f5e-aea8-3f0e55818b37",
        "colab": {
          "base_uri": "https://localhost:8080/",
          "height": 34
        }
      },
      "source": [
        "# Getting the class indices from the data\n",
        "print(train_generator.class_indices)\n",
        "class_dictionary = train_generator.class_indices\n",
        "class_dictionary = list(class_dictionary.keys())"
      ],
      "execution_count": 0,
      "outputs": [
        {
          "output_type": "stream",
          "text": [
            "{'buy': 0, 'hold': 1, 'sell': 2}\n"
          ],
          "name": "stdout"
        }
      ]
    },
    {
      "cell_type": "markdown",
      "metadata": {
        "id": "G8eSJRa5Pp5Z",
        "colab_type": "text"
      },
      "source": [
        "# Using pre-trained ResNet model"
      ]
    },
    {
      "cell_type": "code",
      "metadata": {
        "colab_type": "code",
        "id": "dV9241j3IUjx",
        "colab": {}
      },
      "source": [
        "# use the functional api\n",
        "\n",
        "tf.keras.backend.clear_session()\n",
        "resnet = keras.applications.ResNet50V2(include_top=False, weights='imagenet', input_shape=(224,224,3))\n",
        "# resnet = keras.applications.VGG16(include_top=False, input_shape=(224,224,3))\n",
        "\n",
        "resnet.trainable=False\n",
        "NUM_CLASSES = 3\n",
        "model = keras.Sequential([\n",
        "    resnet, \n",
        "    keras.layers.GlobalAveragePooling2D(),\n",
        "    keras.layers.Dropout(rate=0.25),\n",
        "    # keras.layers.Flatten(),\n",
        "    keras.layers.Dense(units=20, activation='relu'),\n",
        "    keras.layers.Dropout(rate=0.50),\n",
        "    keras.layers.Dense(NUM_CLASSES, activation='softmax')])\n",
        "\n",
        "opt = Adam(lr=0.001)\n",
        "model.compile(\n",
        "    optimizer=opt, \n",
        "    loss=keras.losses.categorical_crossentropy, \n",
        "    metrics=['accuracy'])\n"
      ],
      "execution_count": 0,
      "outputs": []
    },
    {
      "cell_type": "code",
      "metadata": {
        "colab_type": "code",
        "outputId": "2dd9bbf6-cc38-4cf4-aaa1-c0c0df4ed92d",
        "id": "_jld0d-CIVaC",
        "colab": {
          "base_uri": "https://localhost:8080/",
          "height": 1000
        }
      },
      "source": [
        "# steps per epoch = length of training data\n",
        "\n",
        "checkpoint = ModelCheckpoint(\"resnet.h5\", monitor='val_acc', verbose=1, save_best_only=True, save_weights_only=False, mode='auto', period=1)\n",
        "early = EarlyStopping(monitor='val_acc', min_delta=0, patience=20, verbose=1, mode='auto')\n",
        "\n",
        "hist = model.fit_generator(steps_per_epoch=len(train_generator),\n",
        "                           generator=train_generator, validation_data= val_generator, \n",
        "                           validation_steps=len(val_generator),epochs=100, shuffle=True, callbacks=[checkpoint,early])"
      ],
      "execution_count": 0,
      "outputs": [
        {
          "output_type": "stream",
          "text": [
            "Epoch 1/100\n",
            "58/59 [============================>.] - ETA: 1s - loss: 1.0395 - acc: 0.4398Epoch 1/100\n",
            "15/59 [======>.......................] - ETA: 1:09 - loss: 0.9997 - acc: 0.4573\n",
            "Epoch 00001: val_acc improved from -inf to 0.45726, saving model to resnet.h5\n",
            "59/59 [==============================] - 89s 2s/step - loss: 1.0399 - acc: 0.4398 - val_loss: 0.9997 - val_acc: 0.4573\n",
            "Epoch 2/100\n",
            "58/59 [============================>.] - ETA: 0s - loss: 1.0160 - acc: 0.4534Epoch 1/100\n",
            "15/59 [======>.......................] - ETA: 1:06 - loss: 0.9848 - acc: 0.4679\n",
            "Epoch 00002: val_acc improved from 0.45726 to 0.46795, saving model to resnet.h5\n",
            "59/59 [==============================] - 73s 1s/step - loss: 1.0156 - acc: 0.4520 - val_loss: 0.9848 - val_acc: 0.4679\n",
            "Epoch 3/100\n",
            "58/59 [============================>.] - ETA: 0s - loss: 1.0094 - acc: 0.4675Epoch 1/100\n",
            "15/59 [======>.......................] - ETA: 1:07 - loss: 0.9875 - acc: 0.4615\n",
            "Epoch 00003: val_acc did not improve from 0.46795\n",
            "59/59 [==============================] - 74s 1s/step - loss: 1.0111 - acc: 0.4686 - val_loss: 0.9875 - val_acc: 0.4615\n",
            "Epoch 4/100\n",
            "58/59 [============================>.] - ETA: 0s - loss: 0.9997 - acc: 0.4501Epoch 1/100\n",
            "15/59 [======>.......................] - ETA: 1:06 - loss: 0.9779 - acc: 0.4615\n",
            "Epoch 00004: val_acc did not improve from 0.46795\n",
            "59/59 [==============================] - 74s 1s/step - loss: 0.9985 - acc: 0.4515 - val_loss: 0.9779 - val_acc: 0.4615\n",
            "Epoch 5/100\n",
            "58/59 [============================>.] - ETA: 0s - loss: 1.0016 - acc: 0.4572Epoch 1/100\n",
            "15/59 [======>.......................] - ETA: 1:07 - loss: 0.9799 - acc: 0.4615\n",
            "Epoch 00005: val_acc did not improve from 0.46795\n",
            "59/59 [==============================] - 74s 1s/step - loss: 1.0005 - acc: 0.4552 - val_loss: 0.9799 - val_acc: 0.4615\n",
            "Epoch 6/100\n",
            "58/59 [============================>.] - ETA: 0s - loss: 0.9967 - acc: 0.4664Epoch 1/100\n",
            "15/59 [======>.......................] - ETA: 1:06 - loss: 0.9764 - acc: 0.4637\n",
            "Epoch 00006: val_acc did not improve from 0.46795\n",
            "59/59 [==============================] - 74s 1s/step - loss: 0.9958 - acc: 0.4675 - val_loss: 0.9764 - val_acc: 0.4637\n",
            "Epoch 7/100\n",
            "58/59 [============================>.] - ETA: 0s - loss: 0.9992 - acc: 0.4729Epoch 1/100\n",
            "15/59 [======>.......................] - ETA: 1:06 - loss: 0.9875 - acc: 0.4615\n",
            "Epoch 00007: val_acc did not improve from 0.46795\n",
            "59/59 [==============================] - 73s 1s/step - loss: 0.9991 - acc: 0.4739 - val_loss: 0.9875 - val_acc: 0.4615\n",
            "Epoch 8/100\n",
            "58/59 [============================>.] - ETA: 0s - loss: 0.9959 - acc: 0.4751Epoch 1/100\n",
            "15/59 [======>.......................] - ETA: 1:06 - loss: 0.9836 - acc: 0.4615\n",
            "Epoch 00008: val_acc did not improve from 0.46795\n",
            "59/59 [==============================] - 73s 1s/step - loss: 0.9956 - acc: 0.4739 - val_loss: 0.9836 - val_acc: 0.4615\n",
            "Epoch 9/100\n",
            "58/59 [============================>.] - ETA: 0s - loss: 0.9969 - acc: 0.4653Epoch 1/100\n",
            "15/59 [======>.......................] - ETA: 1:05 - loss: 0.9777 - acc: 0.4615\n",
            "Epoch 00009: val_acc did not improve from 0.46795\n",
            "59/59 [==============================] - 73s 1s/step - loss: 0.9951 - acc: 0.4659 - val_loss: 0.9777 - val_acc: 0.4615\n",
            "Epoch 10/100\n",
            "58/59 [============================>.] - ETA: 0s - loss: 0.9869 - acc: 0.4957Epoch 1/100\n",
            "15/59 [======>.......................] - ETA: 1:06 - loss: 0.9979 - acc: 0.4615\n",
            "Epoch 00010: val_acc did not improve from 0.46795\n",
            "59/59 [==============================] - 74s 1s/step - loss: 0.9872 - acc: 0.4952 - val_loss: 0.9979 - val_acc: 0.4615\n",
            "Epoch 11/100\n",
            "58/59 [============================>.] - ETA: 0s - loss: 0.9871 - acc: 0.4848Epoch 1/100\n",
            "15/59 [======>.......................] - ETA: 1:04 - loss: 1.0092 - acc: 0.4615\n",
            "Epoch 00011: val_acc did not improve from 0.46795\n",
            "59/59 [==============================] - 72s 1s/step - loss: 0.9848 - acc: 0.4883 - val_loss: 1.0092 - val_acc: 0.4615\n",
            "Epoch 12/100\n",
            "58/59 [============================>.] - ETA: 0s - loss: 0.9879 - acc: 0.4973Epoch 1/100\n",
            "15/59 [======>.......................] - ETA: 1:06 - loss: 0.9949 - acc: 0.4615\n",
            "Epoch 00012: val_acc did not improve from 0.46795\n",
            "59/59 [==============================] - 73s 1s/step - loss: 0.9883 - acc: 0.4968 - val_loss: 0.9949 - val_acc: 0.4615\n",
            "Epoch 13/100\n",
            "58/59 [============================>.] - ETA: 0s - loss: 0.9841 - acc: 0.5027Epoch 1/100\n",
            "15/59 [======>.......................] - ETA: 1:06 - loss: 0.9969 - acc: 0.4615\n",
            "Epoch 00013: val_acc did not improve from 0.46795\n",
            "59/59 [==============================] - 74s 1s/step - loss: 0.9824 - acc: 0.5032 - val_loss: 0.9969 - val_acc: 0.4615\n",
            "Epoch 14/100\n",
            "58/59 [============================>.] - ETA: 0s - loss: 0.9778 - acc: 0.4778Epoch 1/100\n",
            "15/59 [======>.......................] - ETA: 1:05 - loss: 1.0404 - acc: 0.4615\n",
            "Epoch 00014: val_acc did not improve from 0.46795\n",
            "59/59 [==============================] - 73s 1s/step - loss: 0.9772 - acc: 0.4776 - val_loss: 1.0404 - val_acc: 0.4615\n",
            "Epoch 15/100\n",
            "58/59 [============================>.] - ETA: 0s - loss: 0.9879 - acc: 0.4854Epoch 1/100\n",
            "15/59 [======>.......................] - ETA: 1:06 - loss: 1.0234 - acc: 0.4615\n",
            "Epoch 00015: val_acc did not improve from 0.46795\n",
            "59/59 [==============================] - 73s 1s/step - loss: 0.9857 - acc: 0.4867 - val_loss: 1.0234 - val_acc: 0.4615\n",
            "Epoch 16/100\n",
            "58/59 [============================>.] - ETA: 0s - loss: 0.9844 - acc: 0.4789Epoch 1/100\n",
            "15/59 [======>.......................] - ETA: 1:06 - loss: 1.0256 - acc: 0.4615\n",
            "Epoch 00016: val_acc did not improve from 0.46795\n",
            "59/59 [==============================] - 73s 1s/step - loss: 0.9849 - acc: 0.4797 - val_loss: 1.0256 - val_acc: 0.4615\n",
            "Epoch 17/100\n",
            "58/59 [============================>.] - ETA: 0s - loss: 0.9788 - acc: 0.4984Epoch 1/100\n",
            "15/59 [======>.......................] - ETA: 1:06 - loss: 1.0680 - acc: 0.4615\n",
            "Epoch 00017: val_acc did not improve from 0.46795\n",
            "59/59 [==============================] - 73s 1s/step - loss: 0.9795 - acc: 0.4984 - val_loss: 1.0680 - val_acc: 0.4615\n",
            "Epoch 18/100\n",
            "58/59 [============================>.] - ETA: 0s - loss: 0.9838 - acc: 0.4870Epoch 1/100\n",
            "15/59 [======>.......................] - ETA: 1:05 - loss: 1.0450 - acc: 0.4615\n",
            "Epoch 00018: val_acc did not improve from 0.46795\n",
            "59/59 [==============================] - 73s 1s/step - loss: 0.9845 - acc: 0.4872 - val_loss: 1.0450 - val_acc: 0.4615\n",
            "Epoch 19/100\n",
            "58/59 [============================>.] - ETA: 0s - loss: 0.9744 - acc: 0.5081Epoch 1/100\n",
            "15/59 [======>.......................] - ETA: 1:05 - loss: 1.0580 - acc: 0.4615\n",
            "Epoch 00019: val_acc did not improve from 0.46795\n",
            "59/59 [==============================] - 72s 1s/step - loss: 0.9746 - acc: 0.5085 - val_loss: 1.0580 - val_acc: 0.4615\n",
            "Epoch 20/100\n",
            "58/59 [============================>.] - ETA: 0s - loss: 0.9857 - acc: 0.4789Epoch 1/100\n",
            "15/59 [======>.......................] - ETA: 1:04 - loss: 1.0613 - acc: 0.4615\n",
            "Epoch 00020: val_acc did not improve from 0.46795\n",
            "59/59 [==============================] - 72s 1s/step - loss: 0.9851 - acc: 0.4797 - val_loss: 1.0613 - val_acc: 0.4615\n",
            "Epoch 21/100\n",
            "58/59 [============================>.] - ETA: 0s - loss: 0.9747 - acc: 0.5033Epoch 1/100\n",
            "15/59 [======>.......................] - ETA: 1:04 - loss: 1.0536 - acc: 0.4615\n",
            "Epoch 00021: val_acc did not improve from 0.46795\n",
            "59/59 [==============================] - 71s 1s/step - loss: 0.9743 - acc: 0.5032 - val_loss: 1.0536 - val_acc: 0.4615\n",
            "Epoch 22/100\n",
            "58/59 [============================>.] - ETA: 0s - loss: 0.9779 - acc: 0.4908Epoch 1/100\n",
            "15/59 [======>.......................] - ETA: 1:05 - loss: 1.1249 - acc: 0.4615\n",
            "Epoch 00022: val_acc did not improve from 0.46795\n",
            "59/59 [==============================] - 72s 1s/step - loss: 0.9781 - acc: 0.4888 - val_loss: 1.1249 - val_acc: 0.4615\n",
            "Epoch 00022: early stopping\n"
          ],
          "name": "stdout"
        }
      ]
    },
    {
      "cell_type": "code",
      "metadata": {
        "id": "uKEbwEp5Q96-",
        "colab_type": "code",
        "outputId": "adb4940e-75c7-49f9-d6d1-2745dafc0bea",
        "colab": {
          "base_uri": "https://localhost:8080/",
          "height": 301
        }
      },
      "source": [
        "import matplotlib.pyplot as plt\n",
        "plt.plot(hist.history[\"acc\"])\n",
        "plt.plot(hist.history['val_acc'])\n",
        "plt.plot(hist.history['loss'])\n",
        "plt.plot(hist.history['val_loss'])\n",
        "plt.title(\"model accuracy\")\n",
        "plt.ylabel(\"Accuracy\")\n",
        "plt.xlabel(\"Epoch\")\n",
        "plt.legend([\"Accuracy\",\"Validation Accuracy\",\"loss\",\"Validation Loss\"])\n",
        "plt.show()\n"
      ],
      "execution_count": 0,
      "outputs": [
        {
          "output_type": "display_data",
          "data": {
            "image/png": "[encoded data removed]",
            "text/plain": [
              "<Figure size 432x288 with 1 Axes>"
            ]
          },
          "metadata": {
            "tags": []
          }
        }
      ]
    },
    {
      "cell_type": "code",
      "metadata": {
        "id": "6c_GAOaRrWkL",
        "colab_type": "code",
        "outputId": "d2bdfa82-9de7-4c0b-ac69-d0101aaa998a",
        "colab": {
          "base_uri": "https://localhost:8080/",
          "height": 1000
        }
      },
      "source": [
        "from tensorflow.keras.models import load_model\n",
        "saved_model = load_model(\"/content/drive/My Drive/Emerging Technologies Project - AI based trading platform/resnet.h5\")\n",
        "\n",
        "from keras.preprocessing import image\n",
        "\n",
        "import glob\n",
        "# getting all imgs as a list\n",
        "img = glob.glob(\"/content/drive/My Drive/Emerging Technologies Project - AI based trading platform/split_date_images_test/buy/\" + \"*.jpeg\") \n",
        "\n",
        "for i in img:\n",
        "  img = image.load_img(i, target_size=(224,224))\n",
        "  img = np.asarray(img)\n",
        "  plt.imshow(img)\n",
        "  img = np.expand_dims(img, axis=0)\n",
        "  output = saved_model.predict(img)\n",
        "  if class_dictionary[np.argmax(output)] == 'buy':\n",
        "    print(i)\n",
        "    print(output)\n",
        "  \n"
      ],
      "execution_count": 0,
      "outputs": [
        {
          "output_type": "stream",
          "text": [
            "/content/drive/My Drive/Emerging Technologies Project - AI based trading platform/split_date_images_test/buy/buy_FB_2012-07-02.jpeg\n",
            "[[1.0000000e+00 3.6159342e-31 1.8168448e-26]]\n",
            "/content/drive/My Drive/Emerging Technologies Project - AI based trading platform/split_date_images_test/buy/buy_FB_2012-08-01.jpeg\n",
            "[[1.0000000e+00 7.5507579e-31 2.0500334e-25]]\n",
            "/content/drive/My Drive/Emerging Technologies Project - AI based trading platform/split_date_images_test/buy/buy_FB_2012-10-01.jpeg\n",
            "[[1.0000000e+00 3.2264111e-32 2.3960738e-25]]\n",
            "/content/drive/My Drive/Emerging Technologies Project - AI based trading platform/split_date_images_test/buy/buy_FB_2013-02-01.jpeg\n",
            "[[1.0000000e+00 8.0345509e-31 4.1391732e-26]]\n",
            "/content/drive/My Drive/Emerging Technologies Project - AI based trading platform/split_date_images_test/buy/buy_FB_2013-03-01.jpeg\n",
            "[[1.0000000e+00 5.4000900e-32 3.7265461e-25]]\n",
            "/content/drive/My Drive/Emerging Technologies Project - AI based trading platform/split_date_images_test/buy/buy_FB_2013-05-01.jpeg\n",
            "[[1.0000000e+00 2.9540426e-32 1.1779898e-25]]\n",
            "/content/drive/My Drive/Emerging Technologies Project - AI based trading platform/split_date_images_test/buy/buy_FB_2013-06-03.jpeg\n",
            "[[1.0000000e+00 2.2422256e-29 5.4227722e-26]]\n",
            "/content/drive/My Drive/Emerging Technologies Project - AI based trading platform/split_date_images_test/buy/buy_FB_2013-11-01.jpeg\n",
            "[[1.0000000e+00 6.1306718e-31 1.3560648e-25]]\n",
            "/content/drive/My Drive/Emerging Technologies Project - AI based trading platform/split_date_images_test/buy/buy_FB_2014-03-03.jpeg\n",
            "[[1.0000000e+00 6.3959565e-32 1.2688999e-25]]\n",
            "/content/drive/My Drive/Emerging Technologies Project - AI based trading platform/split_date_images_test/buy/buy_FB_2014-04-01.jpeg\n",
            "[[1.0000000e+00 4.1579244e-27 5.7445689e-26]]\n",
            "/content/drive/My Drive/Emerging Technologies Project - AI based trading platform/split_date_images_test/buy/buy_FB_2014-10-01.jpeg\n",
            "[[1.0000000e+00 1.7543544e-27 1.7280990e-26]]\n",
            "/content/drive/My Drive/Emerging Technologies Project - AI based trading platform/split_date_images_test/buy/buy_FB_2014-11-03.jpeg\n",
            "[[1.0000000e+00 7.3573857e-30 3.1686684e-25]]\n",
            "/content/drive/My Drive/Emerging Technologies Project - AI based trading platform/split_date_images_test/buy/buy_FB_2015-01-02.jpeg\n",
            "[[1.0000000e+00 8.9410016e-29 1.2914414e-25]]\n",
            "/content/drive/My Drive/Emerging Technologies Project - AI based trading platform/split_date_images_test/buy/buy_FB_2015-02-02.jpeg\n",
            "[[1.0000000e+00 2.3633039e-32 3.5360917e-25]]\n",
            "/content/drive/My Drive/Emerging Technologies Project - AI based trading platform/split_date_images_test/buy/buy_FB_2015-08-03.jpeg\n",
            "[[1.0000000e+00 5.1881294e-31 1.6146041e-26]]\n",
            "/content/drive/My Drive/Emerging Technologies Project - AI based trading platform/split_date_images_test/buy/buy_FB_2015-12-01.jpeg\n",
            "[[1.0000000e+00 8.1349138e-29 2.4723596e-25]]\n",
            "/content/drive/My Drive/Emerging Technologies Project - AI based trading platform/split_date_images_test/buy/buy_FB_2016-01-04.jpeg\n",
            "[[1.0000000e+00 2.2867588e-33 1.2923438e-24]]\n",
            "/content/drive/My Drive/Emerging Technologies Project - AI based trading platform/split_date_images_test/buy/buy_FB_2016-04-01.jpeg\n",
            "[[1.0000000e+00 6.4061364e-33 1.0016064e-24]]\n",
            "/content/drive/My Drive/Emerging Technologies Project - AI based trading platform/split_date_images_test/buy/buy_FB_2016-06-01.jpeg\n",
            "[[1.0000000e+00 2.2792194e-31 3.1902191e-26]]\n",
            "/content/drive/My Drive/Emerging Technologies Project - AI based trading platform/split_date_images_test/buy/buy_FB_2016-11-01.jpeg\n",
            "[[1.0000000e+00 1.2873309e-30 2.3301632e-25]]\n",
            "/content/drive/My Drive/Emerging Technologies Project - AI based trading platform/split_date_images_test/buy/buy_FB_2016-12-01.jpeg\n",
            "[[1.0000000e+00 2.8993634e-30 2.7997647e-26]]\n",
            "/content/drive/My Drive/Emerging Technologies Project - AI based trading platform/split_date_images_test/buy/buy_FB_2017-12-01.jpeg\n",
            "[[1.0000000e+00 2.4208670e-28 1.1022074e-26]]\n",
            "/content/drive/My Drive/Emerging Technologies Project - AI based trading platform/split_date_images_test/buy/buy_FB_2018-02-01.jpeg\n",
            "[[1.0000000e+00 2.1156598e-30 5.7496552e-26]]\n",
            "/content/drive/My Drive/Emerging Technologies Project - AI based trading platform/split_date_images_test/buy/buy_FB_2018-03-01.jpeg\n",
            "[[1.00000000e+00 1.05829044e-32 2.27313056e-25]]\n",
            "/content/drive/My Drive/Emerging Technologies Project - AI based trading platform/split_date_images_test/buy/buy_FB_2018-08-01.jpeg\n",
            "[[1.0000000e+00 5.3387530e-29 6.9621277e-26]]\n",
            "/content/drive/My Drive/Emerging Technologies Project - AI based trading platform/split_date_images_test/buy/buy_FB_2018-09-04.jpeg\n",
            "[[1.0000000e+00 2.3766765e-31 1.0261102e-24]]\n",
            "/content/drive/My Drive/Emerging Technologies Project - AI based trading platform/split_date_images_test/buy/buy_FB_2018-10-01.jpeg\n",
            "[[1.0000000e+00 3.4544575e-31 7.2198306e-26]]\n",
            "/content/drive/My Drive/Emerging Technologies Project - AI based trading platform/split_date_images_test/buy/buy_FB_2018-11-01.jpeg\n",
            "[[1.0000000e+00 3.4132856e-32 1.6796859e-25]]\n",
            "/content/drive/My Drive/Emerging Technologies Project - AI based trading platform/split_date_images_test/buy/buy_FB_2019-05-01.jpeg\n",
            "[[1.0000000e+00 6.5526085e-31 1.0956939e-24]]\n",
            "/content/drive/My Drive/Emerging Technologies Project - AI based trading platform/split_date_images_test/buy/buy_FB_2019-08-01.jpeg\n",
            "[[1.0000000e+00 1.2119998e-31 1.0491302e-24]]\n",
            "/content/drive/My Drive/Emerging Technologies Project - AI based trading platform/split_date_images_test/buy/Copy of buy_FB_2013-02-01.jpeg\n",
            "[[1.0000000e+00 8.0345509e-31 4.1391732e-26]]\n",
            "0.03225806451612903\n"
          ],
          "name": "stdout"
        },
        {
          "output_type": "display_data",
          "data": {
            "image/png": "[encoded data removed]",
            "text/plain": [
              "<Figure size 432x288 with 1 Axes>"
            ]
          },
          "metadata": {
            "tags": []
          }
        }
      ]
    },
    {
      "cell_type": "code",
      "metadata": {
        "id": "k-CLKGCmQ4Pq",
        "colab_type": "code",
        "outputId": "ca84f28b-dfed-4ff2-abdb-bcca3df82d5f",
        "colab": {
          "base_uri": "https://localhost:8080/",
          "height": 305
        }
      },
      "source": [
        "from keras.models import load_model\n",
        "# saved_model = load_model(\"/content/resnet.h5\")\n",
        "# output = saved_model.predict(img)\n",
        "\n",
        "from keras.preprocessing import image\n",
        "img = image.load_img(\"/content/drive/My Drive/Emerging Technologies Project - AI based trading platform/split_date_images_test/sell/sell_FB_2013-04-01.jpeg\",target_size=(224,224))\n",
        "img = np.asarray(img)\n",
        "plt.imshow(img)\n",
        "img = np.expand_dims(img, axis=0)\n",
        "\n",
        "output = model.predict(img)\n",
        "print(output)\n",
        "class_dictionary[np.argmax(output)]"
      ],
      "execution_count": 0,
      "outputs": [
        {
          "output_type": "stream",
          "text": [
            "[[2.3685482e-24 1.0000000e+00 0.0000000e+00]]\n"
          ],
          "name": "stdout"
        },
        {
          "output_type": "execute_result",
          "data": {
            "text/plain": [
              "'hold'"
            ]
          },
          "metadata": {
            "tags": []
          },
          "execution_count": 14
        },
        {
          "output_type": "display_data",
          "data": {
            "image/png": "[encoded data removed]",
            "text/plain": [
              "<Figure size 432x288 with 1 Axes>"
            ]
          },
          "metadata": {
            "tags": []
          }
        }
      ]
    },
    {
      "cell_type": "code",
      "metadata": {
        "id": "3Xk5OtstzNOx",
        "colab_type": "code",
        "outputId": "1c232a35-1f4e-4597-da22-d80e4776904b",
        "colab": {
          "base_uri": "https://localhost:8080/",
          "height": 305
        }
      },
      "source": [
        "# from keras.models import load_model\n",
        "from tensorflow.keras.models import load_model\n",
        "saved_model = load_model(\"/content/drive/My Drive/Emerging Technologies Project - AI based trading platform/resnet.h5\")\n",
        "# output = saved_model.predict(img)\n",
        "\n",
        "from keras.preprocessing import image\n",
        "img = image.load_img(\"/content/drive/My Drive/Emerging Technologies Project - AI based trading platform/split_date_images_test/buy/buy_FB_2012-07-02.jpeg\",target_size=(224,224))\n",
        "img = np.asarray(img)\n",
        "plt.imshow(img)\n",
        "img = np.expand_dims(img, axis=0)\n",
        "\n",
        "output = saved_model.predict(img)\n",
        "print(output)\n",
        "class_dictionary[np.argmax(output)]"
      ],
      "execution_count": 0,
      "outputs": [
        {
          "output_type": "stream",
          "text": [
            "[[1.0000000e+00 3.6159342e-31 1.8168448e-26]]\n"
          ],
          "name": "stdout"
        },
        {
          "output_type": "execute_result",
          "data": {
            "text/plain": [
              "'buy'"
            ]
          },
          "metadata": {
            "tags": []
          },
          "execution_count": 22
        },
        {
          "output_type": "display_data",
          "data": {
            "image/png": "[encoded data removed]",
            "text/plain": [
              "<Figure size 432x288 with 1 Axes>"
            ]
          },
          "metadata": {
            "tags": []
          }
        }
      ]
    },
    {
      "cell_type": "markdown",
      "metadata": {
        "id": "051jR5iVQ3ep",
        "colab_type": "text"
      },
      "source": [
        "\n",
        "\n",
        "---\n",
        "\n"
      ]
    },
    {
      "cell_type": "markdown",
      "metadata": {
        "id": "wtr4-bIhPzEF",
        "colab_type": "text"
      },
      "source": [
        "# Building simple model"
      ]
    },
    {
      "cell_type": "code",
      "metadata": {
        "id": "vwLwcArKt0Td",
        "colab_type": "code",
        "colab": {}
      },
      "source": [
        "import keras\n",
        "import keras.layers as layers\n",
        "from keras.layers import Dense, Conv2D, MaxPool2D , Flatten, BatchNormalization, Activation\n",
        "from keras.models import Sequential\n",
        "from keras.preprocessing.image import ImageDataGenerator\n",
        "from keras.utils.np_utils import to_categorical\n",
        "from keras.callbacks import TensorBoard, ModelCheckpoint, EarlyStopping\n",
        "from keras.optimizers import Adam, SGD\n"
      ],
      "execution_count": 0,
      "outputs": []
    },
    {
      "cell_type": "code",
      "metadata": {
        "id": "mMIsubLktrk5",
        "colab_type": "code",
        "colab": {}
      },
      "source": [
        "# use the functional api\n",
        "\n",
        "tf.keras.backend.clear_session()\n",
        "# resnet = keras.applications.ResNet50V2(include_top=False, weights='imagenet', input_shape=(224,224,3))\n",
        "# resnet = keras.applications.VGG16(include_top=False, input_shape=(224,224,3))\n",
        "  # model.add(Conv2D(input_shape=(224,224,3),filters=64,kernel_size=(3,3),padding=\"same\", activation=\"relu\"))\n",
        "\n",
        "# resnet.trainable=False\n",
        "NUM_CLASSES = 3\n",
        "model = keras.Sequential([\n",
        "    keras.layers.Conv2D(input_shape=(224,224,3),filters=64,kernel_size=(3,3),padding=\"same\", activation=\"relu\"),\n",
        "    keras.layers.Conv2D(filters=128,kernel_size=(3,3),padding=\"same\", activation=\"relu\"),\n",
        "    keras.layers.Conv2D(filters=256,kernel_size=(3,3),padding=\"same\", strides= (2,2),activation=\"relu\"),\n",
        "\n",
        "    keras.layers.GlobalAveragePooling2D(),\n",
        "    keras.layers.Dropout(rate=0.25),\n",
        "    # keras.layers.Flatten(),\n",
        "    keras.layers.Dense(units=20, activation='relu'),\n",
        "    keras.layers.Dropout(rate=0.50),\n",
        "    keras.layers.Dense(NUM_CLASSES, activation='softmax')])\n",
        "\n",
        "opt = Adam(lr=0.001)\n",
        "model.compile(\n",
        "    optimizer=opt, \n",
        "    loss=keras.losses.categorical_crossentropy, \n",
        "    metrics=['accuracy'])\n"
      ],
      "execution_count": 0,
      "outputs": []
    },
    {
      "cell_type": "code",
      "metadata": {
        "id": "vZUgY4ObP59T",
        "colab_type": "code",
        "outputId": "b1cbe244-a92f-4120-9f2b-c4b51e30db03",
        "colab": {
          "base_uri": "https://localhost:8080/",
          "height": 425
        }
      },
      "source": [
        "model.summary()"
      ],
      "execution_count": 0,
      "outputs": [
        {
          "output_type": "stream",
          "text": [
            "Model: \"sequential\"\n",
            "_________________________________________________________________\n",
            "Layer (type)                 Output Shape              Param #   \n",
            "=================================================================\n",
            "conv2d (Conv2D)              (None, 224, 224, 64)      1792      \n",
            "_________________________________________________________________\n",
            "conv2d_1 (Conv2D)            (None, 224, 224, 128)     73856     \n",
            "_________________________________________________________________\n",
            "conv2d_2 (Conv2D)            (None, 112, 112, 256)     295168    \n",
            "_________________________________________________________________\n",
            "global_average_pooling2d (Gl (None, 256)               0         \n",
            "_________________________________________________________________\n",
            "dropout (Dropout)            (None, 256)               0         \n",
            "_________________________________________________________________\n",
            "dense (Dense)                (None, 20)                5140      \n",
            "_________________________________________________________________\n",
            "dropout_1 (Dropout)          (None, 20)                0         \n",
            "_________________________________________________________________\n",
            "dense_1 (Dense)              (None, 3)                 63        \n",
            "=================================================================\n",
            "Total params: 376,019\n",
            "Trainable params: 376,019\n",
            "Non-trainable params: 0\n",
            "_________________________________________________________________\n"
          ],
          "name": "stdout"
        }
      ]
    },
    {
      "cell_type": "code",
      "metadata": {
        "id": "cJNWDMG_vAhi",
        "colab_type": "code",
        "outputId": "23fffce3-1694-4755-e9e9-84985f965df8",
        "colab": {
          "base_uri": "https://localhost:8080/",
          "height": 1000
        }
      },
      "source": [
        "# steps per epoch = length of training data\n",
        "\n",
        "checkpoint = ModelCheckpoint(\"model.h5\", monitor='val_acc', verbose=1, save_best_only=True, save_weights_only=False, mode='auto', period=1)\n",
        "early = EarlyStopping(monitor='val_acc', min_delta=0, patience=20, verbose=1, mode='auto')\n",
        "\n",
        "hist = model.fit_generator(steps_per_epoch=len(train_generator),\n",
        "                           generator=train_generator, validation_data= val_generator, \n",
        "                           validation_steps=len(val_generator),epochs=100, shuffle=True, callbacks=[checkpoint,early])"
      ],
      "execution_count": 0,
      "outputs": [
        {
          "output_type": "stream",
          "text": [
            "Epoch 1/100\n",
            "58/59 [============================>.] - ETA: 0s - loss: 1.0268 - acc: 0.4300Epoch 1/100\n",
            "15/59 [======>.......................] - ETA: 50s - loss: 0.9954 - acc: 0.4615\n",
            "Epoch 00001: val_acc improved from -inf to 0.46154, saving model to model.h5\n",
            "59/59 [==============================] - 75s 1s/step - loss: 1.0261 - acc: 0.4318 - val_loss: 0.9954 - val_acc: 0.4615\n",
            "Epoch 2/100\n",
            "58/59 [============================>.] - ETA: 0s - loss: 1.0135 - acc: 0.4322Epoch 1/100\n",
            "15/59 [======>.......................] - ETA: 50s - loss: 1.0044 - acc: 0.4615\n",
            "Epoch 00002: val_acc did not improve from 0.46154\n",
            "59/59 [==============================] - 65s 1s/step - loss: 1.0139 - acc: 0.4323 - val_loss: 1.0044 - val_acc: 0.4615\n",
            "Epoch 3/100\n",
            "58/59 [============================>.] - ETA: 0s - loss: 1.0153 - acc: 0.4393Epoch 1/100\n",
            "15/59 [======>.......................] - ETA: 50s - loss: 1.0106 - acc: 0.4615\n",
            "Epoch 00003: val_acc did not improve from 0.46154\n",
            "59/59 [==============================] - 65s 1s/step - loss: 1.0154 - acc: 0.4398 - val_loss: 1.0106 - val_acc: 0.4615\n",
            "Epoch 4/100\n",
            "58/59 [============================>.] - ETA: 0s - loss: 1.0127 - acc: 0.4420Epoch 1/100\n",
            "15/59 [======>.......................] - ETA: 50s - loss: 1.0136 - acc: 0.4615\n",
            "Epoch 00004: val_acc did not improve from 0.46154\n",
            "59/59 [==============================] - 65s 1s/step - loss: 1.0123 - acc: 0.4430 - val_loss: 1.0136 - val_acc: 0.4615\n",
            "Epoch 5/100\n",
            "58/59 [============================>.] - ETA: 0s - loss: 1.0111 - acc: 0.4496Epoch 1/100\n",
            "15/59 [======>.......................] - ETA: 50s - loss: 0.9941 - acc: 0.4615\n",
            "Epoch 00005: val_acc did not improve from 0.46154\n",
            "59/59 [==============================] - 65s 1s/step - loss: 1.0105 - acc: 0.4488 - val_loss: 0.9941 - val_acc: 0.4615\n",
            "Epoch 6/100\n",
            "58/59 [============================>.] - ETA: 0s - loss: 1.0067 - acc: 0.4507Epoch 1/100\n",
            "15/59 [======>.......................] - ETA: 51s - loss: 0.9914 - acc: 0.4615\n",
            "Epoch 00006: val_acc did not improve from 0.46154\n",
            "59/59 [==============================] - 66s 1s/step - loss: 1.0044 - acc: 0.4510 - val_loss: 0.9914 - val_acc: 0.4615\n",
            "Epoch 7/100\n",
            "58/59 [============================>.] - ETA: 0s - loss: 1.0044 - acc: 0.4496Epoch 1/100\n",
            "15/59 [======>.......................] - ETA: 51s - loss: 0.9940 - acc: 0.4615\n",
            "Epoch 00007: val_acc did not improve from 0.46154\n",
            "59/59 [==============================] - 67s 1s/step - loss: 1.0039 - acc: 0.4494 - val_loss: 0.9940 - val_acc: 0.4615\n",
            "Epoch 8/100\n",
            "58/59 [============================>.] - ETA: 0s - loss: 1.0105 - acc: 0.4485Epoch 1/100\n",
            "15/59 [======>.......................] - ETA: 51s - loss: 1.0053 - acc: 0.4615\n",
            "Epoch 00008: val_acc did not improve from 0.46154\n",
            "59/59 [==============================] - 66s 1s/step - loss: 1.0096 - acc: 0.4483 - val_loss: 1.0053 - val_acc: 0.4615\n",
            "Epoch 9/100\n",
            "58/59 [============================>.] - ETA: 0s - loss: 1.0053 - acc: 0.4333Epoch 1/100\n",
            "15/59 [======>.......................] - ETA: 51s - loss: 0.9951 - acc: 0.4615\n",
            "Epoch 00009: val_acc did not improve from 0.46154\n",
            "59/59 [==============================] - 66s 1s/step - loss: 1.0050 - acc: 0.4360 - val_loss: 0.9951 - val_acc: 0.4615\n",
            "Epoch 10/100\n",
            "58/59 [============================>.] - ETA: 0s - loss: 1.0068 - acc: 0.4588Epoch 1/100\n",
            "15/59 [======>.......................] - ETA: 52s - loss: 0.9971 - acc: 0.4615\n",
            "Epoch 00010: val_acc did not improve from 0.46154\n",
            "59/59 [==============================] - 66s 1s/step - loss: 1.0072 - acc: 0.4579 - val_loss: 0.9971 - val_acc: 0.4615\n",
            "Epoch 11/100\n",
            "58/59 [============================>.] - ETA: 0s - loss: 1.0059 - acc: 0.4626Epoch 1/100\n",
            "15/59 [======>.......................] - ETA: 51s - loss: 0.9994 - acc: 0.4615\n",
            "Epoch 00011: val_acc did not improve from 0.46154\n",
            "59/59 [==============================] - 67s 1s/step - loss: 1.0042 - acc: 0.4638 - val_loss: 0.9994 - val_acc: 0.4615\n",
            "Epoch 12/100\n",
            "58/59 [============================>.] - ETA: 0s - loss: 1.0019 - acc: 0.4523Epoch 1/100\n",
            "15/59 [======>.......................] - ETA: 52s - loss: 0.9971 - acc: 0.4615\n",
            "Epoch 00012: val_acc did not improve from 0.46154\n",
            "59/59 [==============================] - 67s 1s/step - loss: 1.0030 - acc: 0.4510 - val_loss: 0.9971 - val_acc: 0.4615\n",
            "Epoch 13/100\n",
            "58/59 [============================>.] - ETA: 0s - loss: 1.0062 - acc: 0.4577Epoch 1/100\n",
            "15/59 [======>.......................] - ETA: 51s - loss: 1.0018 - acc: 0.4615\n",
            "Epoch 00013: val_acc did not improve from 0.46154\n",
            "59/59 [==============================] - 66s 1s/step - loss: 1.0055 - acc: 0.4563 - val_loss: 1.0018 - val_acc: 0.4615\n",
            "Epoch 14/100\n",
            "58/59 [============================>.] - ETA: 0s - loss: 1.0023 - acc: 0.4544Epoch 1/100\n",
            "15/59 [======>.......................] - ETA: 51s - loss: 0.9978 - acc: 0.4615\n",
            "Epoch 00014: val_acc did not improve from 0.46154\n",
            "59/59 [==============================] - 66s 1s/step - loss: 1.0021 - acc: 0.4558 - val_loss: 0.9978 - val_acc: 0.4615\n",
            "Epoch 15/100\n",
            "58/59 [============================>.] - ETA: 0s - loss: 0.9999 - acc: 0.4653Epoch 1/100\n",
            "15/59 [======>.......................] - ETA: 50s - loss: 0.9936 - acc: 0.4615\n",
            "Epoch 00015: val_acc did not improve from 0.46154\n",
            "59/59 [==============================] - 65s 1s/step - loss: 0.9998 - acc: 0.4664 - val_loss: 0.9936 - val_acc: 0.4615\n",
            "Epoch 16/100\n",
            "58/59 [============================>.] - ETA: 0s - loss: 1.0011 - acc: 0.4544Epoch 1/100\n",
            "15/59 [======>.......................] - ETA: 50s - loss: 0.9926 - acc: 0.4615\n",
            "Epoch 00016: val_acc did not improve from 0.46154\n",
            "59/59 [==============================] - 65s 1s/step - loss: 1.0003 - acc: 0.4547 - val_loss: 0.9926 - val_acc: 0.4615\n",
            "Epoch 17/100\n",
            "58/59 [============================>.] - ETA: 0s - loss: 1.0021 - acc: 0.4534Epoch 1/100\n",
            "15/59 [======>.......................] - ETA: 50s - loss: 0.9967 - acc: 0.4615\n",
            "Epoch 00017: val_acc did not improve from 0.46154\n",
            "59/59 [==============================] - 65s 1s/step - loss: 1.0016 - acc: 0.4552 - val_loss: 0.9967 - val_acc: 0.4615\n",
            "Epoch 18/100\n",
            "58/59 [============================>.] - ETA: 0s - loss: 0.9960 - acc: 0.4550Epoch 1/100\n",
            "15/59 [======>.......................] - ETA: 49s - loss: 0.9937 - acc: 0.4615\n",
            "Epoch 00018: val_acc did not improve from 0.46154\n",
            "59/59 [==============================] - 65s 1s/step - loss: 0.9954 - acc: 0.4574 - val_loss: 0.9937 - val_acc: 0.4615\n",
            "Epoch 19/100\n",
            "58/59 [============================>.] - ETA: 0s - loss: 0.9971 - acc: 0.4593Epoch 1/100\n",
            "15/59 [======>.......................] - ETA: 50s - loss: 0.9922 - acc: 0.4615\n",
            "Epoch 00019: val_acc did not improve from 0.46154\n",
            "59/59 [==============================] - 65s 1s/step - loss: 0.9958 - acc: 0.4595 - val_loss: 0.9922 - val_acc: 0.4615\n",
            "Epoch 20/100\n",
            "58/59 [============================>.] - ETA: 0s - loss: 0.9964 - acc: 0.4642Epoch 1/100\n",
            "15/59 [======>.......................] - ETA: 49s - loss: 0.9912 - acc: 0.4615\n",
            "Epoch 00020: val_acc did not improve from 0.46154\n",
            "59/59 [==============================] - 65s 1s/step - loss: 0.9971 - acc: 0.4622 - val_loss: 0.9912 - val_acc: 0.4615\n",
            "Epoch 21/100\n",
            "58/59 [============================>.] - ETA: 0s - loss: 0.9976 - acc: 0.4620Epoch 1/100\n",
            "15/59 [======>.......................] - ETA: 50s - loss: 0.9939 - acc: 0.4615\n",
            "Epoch 00021: val_acc did not improve from 0.46154\n",
            "59/59 [==============================] - 65s 1s/step - loss: 1.0008 - acc: 0.4600 - val_loss: 0.9939 - val_acc: 0.4615\n",
            "Epoch 00021: early stopping\n"
          ],
          "name": "stdout"
        }
      ]
    },
    {
      "cell_type": "code",
      "metadata": {
        "id": "ycCDeNmSx0cx",
        "colab_type": "code",
        "outputId": "1d9819f5-4b4f-4d28-eeb8-e95f782ecb0a",
        "colab": {
          "base_uri": "https://localhost:8080/",
          "height": 322
        }
      },
      "source": [
        "# from keras.models import load_model\n",
        "# from tensorflow.keras.models import load_model\n",
        "# saved_model = load_model(\"/content/drive/My Drive/Emerging Technologies Project - AI based trading platform/resnet.h5\")\n",
        "# # output = saved_model.predict(img)\n",
        "\n",
        "from keras.preprocessing import image\n",
        "# img = image.load_img(\"/content/drive/My Drive/Emerging Technologies Project - AI based trading platform/split_date_images_test/sell/sell_FB_2013-04-01.jpeg\",target_size=(224,224))\n",
        "# img = np.asarray(img)\n",
        "# plt.imshow(img)\n",
        "# img = np.expand_dims(img, axis=0)\n",
        "\n",
        "import glob\n",
        "# getting all imgs as a list\n",
        "img = glob.glob(\"/content/drive/My Drive/Emerging Technologies Project - AI based trading platform/split_date_images_test/hold/\" + \"*.jpeg\") \n",
        "\n",
        "for i in img:\n",
        "  img = image.load_img(i, target_size=(224,224))\n",
        "  img = np.asarray(img)\n",
        "  plt.imshow(img)\n",
        "  img = np.expand_dims(img, axis=0)\n",
        "  output = model.predict(img)\n",
        "  print(output)\n",
        "  if class_dictionary[np.argmax(output)] == 'hold':\n",
        "    print(i)\n",
        "    print(output)\n",
        "  \n",
        "\n",
        "\n",
        "# output = model.predict(img)\n",
        "# print(output)\n",
        "# class_dictionary[np.argmax(output)]"
      ],
      "execution_count": 0,
      "outputs": [
        {
          "output_type": "stream",
          "text": [
            "[[2.5938966e-06 0.0000000e+00 9.9999738e-01]]\n",
            "[[2.5437655e-06 0.0000000e+00 9.9999750e-01]]\n",
            "[[2.483986e-06 0.000000e+00 9.999975e-01]]\n"
          ],
          "name": "stdout"
        },
        {
          "output_type": "display_data",
          "data": {
            "image/png": "[encoded data removed]",
            "text/plain": [
              "<Figure size 432x288 with 1 Axes>"
            ]
          },
          "metadata": {
            "tags": []
          }
        }
      ]
    },
    {
      "cell_type": "markdown",
      "metadata": {
        "id": "-TLCsC5_tsJm",
        "colab_type": "text"
      },
      "source": [
        "\n",
        "\n",
        "---\n",
        "\n"
      ]
    },
    {
      "cell_type": "markdown",
      "metadata": {
        "id": "WcxkJfot5Knw",
        "colab_type": "text"
      },
      "source": [
        "# Building VGG Model"
      ]
    },
    {
      "cell_type": "code",
      "metadata": {
        "id": "DNqnL8gwANwI",
        "colab_type": "code",
        "colab": {}
      },
      "source": [
        "import keras\n",
        "import keras.layers as layers\n",
        "from keras.layers import Dense, Conv2D, MaxPool2D , Flatten, BatchNormalization, Activation\n",
        "from keras.models import Sequential\n",
        "from keras.preprocessing.image import ImageDataGenerator\n",
        "from keras.utils.np_utils import to_categorical\n",
        "from keras.callbacks import TensorBoard, ModelCheckpoint, EarlyStopping\n",
        "from keras.optimizers import Adam, SGD\n"
      ],
      "execution_count": 0,
      "outputs": []
    },
    {
      "cell_type": "code",
      "metadata": {
        "id": "ZL0JB7xraFZh",
        "colab_type": "code",
        "colab": {}
      },
      "source": [
        "def build_model():\n",
        "  model = Sequential()\n",
        "  model.add(Conv2D(input_shape=(224,224,3),filters=64,kernel_size=(3,3),padding=\"same\", activation=\"relu\"))\n",
        "  # model.add(Conv2D(filters=64,kernel_size=(3,3),padding=\"same\", activation=\"relu\"))\n",
        "  model.add(MaxPool2D(pool_size=(2,2),strides=(2,2)))\n",
        "\n",
        "\n",
        "  model.add(Conv2D(filters=128, kernel_size=(3,3), padding=\"same\", activation=\"relu\"))\n",
        "  # model.add(Conv2D(filters=128, kernel_size=(3,3), padding=\"same\", activation=\"relu\"))\n",
        "  model.add(MaxPool2D(pool_size=(2,2),strides=(2,2)))\n",
        "\n",
        "\n",
        "  model.add(Conv2D(filters=256, kernel_size=(3,3), padding=\"same\", activation=\"relu\"))\n",
        "  model.add(Conv2D(filters=256, kernel_size=(3,3), padding=\"same\", activation=\"relu\"))\n",
        "  # model.add(Conv2D(filters=256, kernel_size=(3,3), padding=\"same\", activation=\"relu\"))\n",
        "  model.add(MaxPool2D(pool_size=(2,2),strides=(2,2)))\n",
        "\n",
        "\n",
        "  model.add(Conv2D(filters=512, kernel_size=(3,3), padding=\"same\", activation=\"relu\"))\n",
        "  model.add(Conv2D(filters=512, kernel_size=(3,3), padding=\"same\", activation=\"relu\"))\n",
        "  # model.add(Conv2D(filters=512, kernel_size=(3,3), padding=\"same\", activation=\"relu\"))\n",
        "  model.add(MaxPool2D(pool_size=(2,2),strides=(2,2)))\n",
        "\n",
        "\n",
        "  model.add(Conv2D(filters=512, kernel_size=(3,3), padding=\"same\", activation=\"relu\"))\n",
        "  model.add(Conv2D(filters=512, kernel_size=(3,3), padding=\"same\", activation=\"relu\"))\n",
        "  # model.add(Conv2D(filters=512, kernel_size=(3,3), padding=\"same\", activation=\"relu\"))\n",
        "  model.add(MaxPool2D(pool_size=(2,2),strides=(2,2)))\n",
        "\n",
        "  model.add(Flatten())\n",
        "  model.add(BatchNormalization())\n",
        "  model.add(Dense(units=128))\n",
        "  model.add(Activation(\"relu\"))\n",
        "  model.add(BatchNormalization())\n",
        "  model.add(Dense(units=64))\n",
        "  model.add(Activation(\"relu\"))\n",
        "\n",
        "  model.add(Dense(units=3, activation=\"softmax\"))\n",
        "\n",
        "  return model"
      ],
      "execution_count": 0,
      "outputs": []
    },
    {
      "cell_type": "code",
      "metadata": {
        "id": "Xvrbs6Jw_q7B",
        "colab_type": "code",
        "outputId": "017e9d1c-e342-40cb-c2aa-63f5a91a7d3b",
        "colab": {
          "base_uri": "https://localhost:8080/",
          "height": 1000
        }
      },
      "source": [
        "tf.keras.backend.clear_session()\n",
        "\n",
        "# opt = SGD(lr = 0.0005)\n",
        "opt = Adam(lr=0.001)\n",
        "\n",
        "model = build_model()\n",
        "model.summary()\n",
        "\n",
        "model.compile(optimizer=opt, loss=keras.losses.binary_crossentropy, metrics=['accuracy'])"
      ],
      "execution_count": 0,
      "outputs": [
        {
          "output_type": "stream",
          "text": [
            "WARNING:tensorflow:From /usr/local/lib/python3.6/dist-packages/keras/backend/tensorflow_backend.py:66: The name tf.get_default_graph is deprecated. Please use tf.compat.v1.get_default_graph instead.\n",
            "\n",
            "WARNING:tensorflow:From /usr/local/lib/python3.6/dist-packages/keras/backend/tensorflow_backend.py:541: The name tf.placeholder is deprecated. Please use tf.compat.v1.placeholder instead.\n",
            "\n",
            "WARNING:tensorflow:From /usr/local/lib/python3.6/dist-packages/keras/backend/tensorflow_backend.py:4432: The name tf.random_uniform is deprecated. Please use tf.random.uniform instead.\n",
            "\n",
            "WARNING:tensorflow:From /usr/local/lib/python3.6/dist-packages/keras/backend/tensorflow_backend.py:4267: The name tf.nn.max_pool is deprecated. Please use tf.nn.max_pool2d instead.\n",
            "\n",
            "WARNING:tensorflow:From /usr/local/lib/python3.6/dist-packages/keras/backend/tensorflow_backend.py:148: The name tf.placeholder_with_default is deprecated. Please use tf.compat.v1.placeholder_with_default instead.\n",
            "\n",
            "Model: \"sequential_1\"\n",
            "_________________________________________________________________\n",
            "Layer (type)                 Output Shape              Param #   \n",
            "=================================================================\n",
            "conv2d_1 (Conv2D)            (None, 224, 224, 64)      1792      \n",
            "_________________________________________________________________\n",
            "max_pooling2d_1 (MaxPooling2 (None, 112, 112, 64)      0         \n",
            "_________________________________________________________________\n",
            "conv2d_2 (Conv2D)            (None, 112, 112, 128)     73856     \n",
            "_________________________________________________________________\n",
            "max_pooling2d_2 (MaxPooling2 (None, 56, 56, 128)       0         \n",
            "_________________________________________________________________\n",
            "conv2d_3 (Conv2D)            (None, 56, 56, 256)       295168    \n",
            "_________________________________________________________________\n",
            "conv2d_4 (Conv2D)            (None, 56, 56, 256)       590080    \n",
            "_________________________________________________________________\n",
            "max_pooling2d_3 (MaxPooling2 (None, 28, 28, 256)       0         \n",
            "_________________________________________________________________\n",
            "conv2d_5 (Conv2D)            (None, 28, 28, 512)       1180160   \n",
            "_________________________________________________________________\n",
            "conv2d_6 (Conv2D)            (None, 28, 28, 512)       2359808   \n",
            "_________________________________________________________________\n",
            "max_pooling2d_4 (MaxPooling2 (None, 14, 14, 512)       0         \n",
            "_________________________________________________________________\n",
            "conv2d_7 (Conv2D)            (None, 14, 14, 512)       2359808   \n",
            "_________________________________________________________________\n",
            "conv2d_8 (Conv2D)            (None, 14, 14, 512)       2359808   \n",
            "_________________________________________________________________\n",
            "max_pooling2d_5 (MaxPooling2 (None, 7, 7, 512)         0         \n",
            "_________________________________________________________________\n",
            "flatten_1 (Flatten)          (None, 25088)             0         \n",
            "_________________________________________________________________\n",
            "batch_normalization_1 (Batch (None, 25088)             100352    \n",
            "_________________________________________________________________\n",
            "dense_1 (Dense)              (None, 128)               3211392   \n",
            "_________________________________________________________________\n",
            "activation_1 (Activation)    (None, 128)               0         \n",
            "_________________________________________________________________\n",
            "batch_normalization_2 (Batch (None, 128)               512       \n",
            "_________________________________________________________________\n",
            "dense_2 (Dense)              (None, 64)                8256      \n",
            "_________________________________________________________________\n",
            "activation_2 (Activation)    (None, 64)                0         \n",
            "_________________________________________________________________\n",
            "dense_3 (Dense)              (None, 3)                 195       \n",
            "=================================================================\n",
            "Total params: 12,541,187\n",
            "Trainable params: 12,490,755\n",
            "Non-trainable params: 50,432\n",
            "_________________________________________________________________\n",
            "WARNING:tensorflow:From /usr/local/lib/python3.6/dist-packages/keras/optimizers.py:793: The name tf.train.Optimizer is deprecated. Please use tf.compat.v1.train.Optimizer instead.\n",
            "\n",
            "WARNING:tensorflow:From /usr/local/lib/python3.6/dist-packages/keras/backend/tensorflow_backend.py:3657: The name tf.log is deprecated. Please use tf.math.log instead.\n",
            "\n",
            "WARNING:tensorflow:From /usr/local/lib/python3.6/dist-packages/tensorflow_core/python/ops/nn_impl.py:183: where (from tensorflow.python.ops.array_ops) is deprecated and will be removed in a future version.\n",
            "Instructions for updating:\n",
            "Use tf.where in 2.0, which has the same broadcast rule as np.where\n"
          ],
          "name": "stdout"
        }
      ]
    },
    {
      "cell_type": "code",
      "metadata": {
        "id": "qkxFafNJZkjK",
        "colab_type": "code",
        "outputId": "5793f8a9-9c48-402f-a5ba-045b5aba9f85",
        "colab": {
          "base_uri": "https://localhost:8080/",
          "height": 1000
        }
      },
      "source": [
        "# steps per epoch = length of training data\n",
        "\n",
        "checkpoint = ModelCheckpoint(\"test.h5\", monitor='val_acc', verbose=1, save_best_only=True, save_weights_only=False, mode='auto', period=1)\n",
        "early = EarlyStopping(monitor='val_acc', min_delta=0, patience=20, verbose=1, mode='auto')\n",
        "\n",
        "hist = model.fit_generator(steps_per_epoch=len(train_generator),\n",
        "                           generator=train_generator, validation_data= val_generator, \n",
        "                           validation_steps=len(val_generator),epochs=100, shuffle=True, callbacks=[checkpoint,early])"
      ],
      "execution_count": 0,
      "outputs": [
        {
          "output_type": "stream",
          "text": [
            "WARNING:tensorflow:From /usr/local/lib/python3.6/dist-packages/keras/backend/tensorflow_backend.py:1033: The name tf.assign_add is deprecated. Please use tf.compat.v1.assign_add instead.\n",
            "\n",
            "WARNING:tensorflow:From /usr/local/lib/python3.6/dist-packages/keras/backend/tensorflow_backend.py:1020: The name tf.assign is deprecated. Please use tf.compat.v1.assign instead.\n",
            "\n",
            "WARNING:tensorflow:From /usr/local/lib/python3.6/dist-packages/keras/backend/tensorflow_backend.py:3005: The name tf.Session is deprecated. Please use tf.compat.v1.Session instead.\n",
            "\n",
            "Epoch 1/100\n",
            "WARNING:tensorflow:From /usr/local/lib/python3.6/dist-packages/keras/backend/tensorflow_backend.py:190: The name tf.get_default_session is deprecated. Please use tf.compat.v1.get_default_session instead.\n",
            "\n",
            "WARNING:tensorflow:From /usr/local/lib/python3.6/dist-packages/keras/backend/tensorflow_backend.py:197: The name tf.ConfigProto is deprecated. Please use tf.compat.v1.ConfigProto instead.\n",
            "\n",
            "WARNING:tensorflow:From /usr/local/lib/python3.6/dist-packages/keras/backend/tensorflow_backend.py:207: The name tf.global_variables is deprecated. Please use tf.compat.v1.global_variables instead.\n",
            "\n",
            "WARNING:tensorflow:From /usr/local/lib/python3.6/dist-packages/keras/backend/tensorflow_backend.py:216: The name tf.is_variable_initialized is deprecated. Please use tf.compat.v1.is_variable_initialized instead.\n",
            "\n",
            "WARNING:tensorflow:From /usr/local/lib/python3.6/dist-packages/keras/backend/tensorflow_backend.py:223: The name tf.variables_initializer is deprecated. Please use tf.compat.v1.variables_initializer instead.\n",
            "\n",
            "59/59 [==============================] - 741s 13s/step - loss: 0.6643 - acc: 0.6474 - val_loss: 9.2482 - val_acc: 0.4231\n",
            "\n",
            "Epoch 00001: val_acc improved from -inf to 0.42308, saving model to test.h5\n",
            "Epoch 2/100\n",
            "59/59 [==============================] - 68s 1s/step - loss: 0.6126 - acc: 0.6584 - val_loss: 9.2482 - val_acc: 0.4231\n",
            "\n",
            "Epoch 00002: val_acc did not improve from 0.42308\n",
            "Epoch 3/100\n",
            "59/59 [==============================] - 76s 1s/step - loss: 0.5971 - acc: 0.6673 - val_loss: 5.9175 - val_acc: 0.6026\n",
            "\n",
            "Epoch 00003: val_acc improved from 0.42308 to 0.60256, saving model to test.h5\n",
            "Epoch 4/100\n",
            "59/59 [==============================] - 76s 1s/step - loss: 0.5927 - acc: 0.6744 - val_loss: 2.4167 - val_acc: 0.4729\n",
            "\n",
            "Epoch 00004: val_acc did not improve from 0.60256\n",
            "Epoch 5/100\n",
            "59/59 [==============================] - 76s 1s/step - loss: 0.5876 - acc: 0.6817 - val_loss: 9.2482 - val_acc: 0.4231\n",
            "\n",
            "Epoch 00005: val_acc did not improve from 0.60256\n",
            "Epoch 6/100\n",
            "59/59 [==============================] - 76s 1s/step - loss: 0.5781 - acc: 0.6941 - val_loss: 9.2482 - val_acc: 0.4231\n",
            "\n",
            "Epoch 00006: val_acc did not improve from 0.60256\n",
            "Epoch 7/100\n",
            "59/59 [==============================] - 76s 1s/step - loss: 0.5808 - acc: 0.6875 - val_loss: 9.2482 - val_acc: 0.4231\n",
            "\n",
            "Epoch 00007: val_acc did not improve from 0.60256\n",
            "Epoch 8/100\n",
            "59/59 [==============================] - 75s 1s/step - loss: 0.5705 - acc: 0.6973 - val_loss: 9.2482 - val_acc: 0.4231\n",
            "\n",
            "Epoch 00008: val_acc did not improve from 0.60256\n",
            "Epoch 9/100\n",
            "59/59 [==============================] - 75s 1s/step - loss: 0.5772 - acc: 0.6862 - val_loss: 9.2482 - val_acc: 0.4231\n",
            "\n",
            "Epoch 00009: val_acc did not improve from 0.60256\n",
            "Epoch 10/100\n",
            "59/59 [==============================] - 76s 1s/step - loss: 0.5775 - acc: 0.6925 - val_loss: 5.4690 - val_acc: 0.4231\n",
            "\n",
            "Epoch 00010: val_acc did not improve from 0.60256\n",
            "Epoch 11/100\n",
            "59/59 [==============================] - 76s 1s/step - loss: 0.5754 - acc: 0.6922 - val_loss: 9.2482 - val_acc: 0.4231\n",
            "\n",
            "Epoch 00011: val_acc did not improve from 0.60256\n",
            "Epoch 12/100\n",
            "59/59 [==============================] - 76s 1s/step - loss: 0.5684 - acc: 0.7020 - val_loss: 6.3710 - val_acc: 0.6026\n",
            "\n",
            "Epoch 00012: val_acc improved from 0.60256 to 0.60256, saving model to test.h5\n",
            "Epoch 13/100\n",
            "59/59 [==============================] - 76s 1s/step - loss: 0.5660 - acc: 0.7042 - val_loss: 1.1049 - val_acc: 0.6624\n",
            "\n",
            "Epoch 00013: val_acc improved from 0.60256 to 0.66239, saving model to test.h5\n",
            "Epoch 14/100\n",
            "59/59 [==============================] - 76s 1s/step - loss: 0.5630 - acc: 0.7102 - val_loss: 6.3710 - val_acc: 0.6026\n",
            "\n",
            "Epoch 00014: val_acc did not improve from 0.66239\n",
            "Epoch 15/100\n",
            "59/59 [==============================] - 76s 1s/step - loss: 0.5570 - acc: 0.7124 - val_loss: 5.6855 - val_acc: 0.6026\n",
            "\n",
            "Epoch 00015: val_acc did not improve from 0.66239\n",
            "Epoch 16/100\n",
            "59/59 [==============================] - 76s 1s/step - loss: 0.5572 - acc: 0.7129 - val_loss: 3.1948 - val_acc: 0.6026\n",
            "\n",
            "Epoch 00016: val_acc did not improve from 0.66239\n",
            "Epoch 17/100\n",
            "59/59 [==============================] - 76s 1s/step - loss: 0.5570 - acc: 0.7165 - val_loss: 6.3710 - val_acc: 0.6026\n",
            "\n",
            "Epoch 00017: val_acc did not improve from 0.66239\n",
            "Epoch 18/100\n",
            "59/59 [==============================] - 76s 1s/step - loss: 0.5568 - acc: 0.7091 - val_loss: 4.0004 - val_acc: 0.4231\n",
            "\n",
            "Epoch 00018: val_acc did not improve from 0.66239\n",
            "Epoch 19/100\n",
            "59/59 [==============================] - 77s 1s/step - loss: 0.5529 - acc: 0.7197 - val_loss: 4.4901 - val_acc: 0.6026\n",
            "\n",
            "Epoch 00019: val_acc did not improve from 0.66239\n",
            "Epoch 20/100\n",
            "59/59 [==============================] - 76s 1s/step - loss: 0.5561 - acc: 0.7159 - val_loss: 6.3710 - val_acc: 0.6026\n",
            "\n",
            "Epoch 00020: val_acc did not improve from 0.66239\n",
            "Epoch 21/100\n",
            "59/59 [==============================] - 77s 1s/step - loss: 0.5526 - acc: 0.7180 - val_loss: 6.3710 - val_acc: 0.6026\n",
            "\n",
            "Epoch 00021: val_acc did not improve from 0.66239\n",
            "Epoch 22/100\n",
            "59/59 [==============================] - 76s 1s/step - loss: 0.5451 - acc: 0.7277 - val_loss: 6.3710 - val_acc: 0.6026\n",
            "\n",
            "Epoch 00022: val_acc did not improve from 0.66239\n",
            "Epoch 23/100\n",
            "59/59 [==============================] - 76s 1s/step - loss: 0.5530 - acc: 0.7141 - val_loss: 2.9508 - val_acc: 0.5513\n",
            "\n",
            "Epoch 00023: val_acc did not improve from 0.66239\n",
            "Epoch 24/100\n",
            "59/59 [==============================] - 76s 1s/step - loss: 0.5459 - acc: 0.7286 - val_loss: 5.9177 - val_acc: 0.4231\n",
            "\n",
            "Epoch 00024: val_acc did not improve from 0.66239\n",
            "Epoch 25/100\n",
            "59/59 [==============================] - 76s 1s/step - loss: 0.5483 - acc: 0.7230 - val_loss: 0.7896 - val_acc: 0.6033\n",
            "\n",
            "Epoch 00025: val_acc did not improve from 0.66239\n",
            "Epoch 26/100\n",
            "59/59 [==============================] - 76s 1s/step - loss: 0.5477 - acc: 0.7300 - val_loss: 6.3710 - val_acc: 0.6026\n",
            "\n",
            "Epoch 00026: val_acc did not improve from 0.66239\n",
            "Epoch 27/100\n",
            "59/59 [==============================] - 76s 1s/step - loss: 0.5454 - acc: 0.7315 - val_loss: 6.3710 - val_acc: 0.6026\n",
            "\n",
            "Epoch 00027: val_acc did not improve from 0.66239\n",
            "Epoch 28/100\n",
            "59/59 [==============================] - 76s 1s/step - loss: 0.5425 - acc: 0.7369 - val_loss: 4.6861 - val_acc: 0.6026\n",
            "\n",
            "Epoch 00028: val_acc did not improve from 0.66239\n",
            "Epoch 29/100\n",
            "59/59 [==============================] - 76s 1s/step - loss: 0.5425 - acc: 0.7361 - val_loss: 7.3326 - val_acc: 0.4231\n",
            "\n",
            "Epoch 00029: val_acc did not improve from 0.66239\n",
            "Epoch 30/100\n",
            "59/59 [==============================] - 75s 1s/step - loss: 0.5424 - acc: 0.7291 - val_loss: 2.9645 - val_acc: 0.6011\n",
            "\n",
            "Epoch 00030: val_acc did not improve from 0.66239\n",
            "Epoch 31/100\n",
            "59/59 [==============================] - 76s 1s/step - loss: 0.5386 - acc: 0.7354 - val_loss: 6.3710 - val_acc: 0.6026\n",
            "\n",
            "Epoch 00031: val_acc did not improve from 0.66239\n",
            "Epoch 32/100\n",
            "59/59 [==============================] - 76s 1s/step - loss: 0.5459 - acc: 0.7248 - val_loss: 5.2438 - val_acc: 0.6026\n",
            "\n",
            "Epoch 00032: val_acc did not improve from 0.66239\n",
            "Epoch 33/100\n",
            "59/59 [==============================] - 76s 1s/step - loss: 0.5417 - acc: 0.7293 - val_loss: 5.3241 - val_acc: 0.4231\n",
            "\n",
            "Epoch 00033: val_acc did not improve from 0.66239\n",
            "Epoch 00033: early stopping\n"
          ],
          "name": "stdout"
        }
      ]
    },
    {
      "cell_type": "code",
      "metadata": {
        "id": "l0t06hc7P6V5",
        "colab_type": "code",
        "outputId": "fa90bb87-7d2d-4169-8698-99e466e5058c",
        "colab": {
          "base_uri": "https://localhost:8080/",
          "height": 301
        }
      },
      "source": [
        "import matplotlib.pyplot as plt\n",
        "plt.plot(hist.history[\"acc\"])\n",
        "plt.plot(hist.history['val_acc'])\n",
        "plt.plot(hist.history['loss'])\n",
        "plt.plot(hist.history['val_loss'])\n",
        "plt.title(\"model accuracy\")\n",
        "plt.ylabel(\"Accuracy\")\n",
        "plt.xlabel(\"Epoch\")\n",
        "plt.legend([\"Accuracy\",\"Validation Accuracy\",\"loss\",\"Validation Loss\"])\n",
        "plt.show()"
      ],
      "execution_count": 0,
      "outputs": [
        {
          "output_type": "display_data",
          "data": {
            "image/png": "[encoded data removed]",
            "text/plain": [
              "<Figure size 432x288 with 1 Axes>"
            ]
          },
          "metadata": {
            "tags": []
          }
        }
      ]
    },
    {
      "cell_type": "code",
      "metadata": {
        "id": "gG7R1HNlaey_",
        "colab_type": "code",
        "outputId": "b42c40a0-2f53-4903-b340-534a71a9e81e",
        "colab": {
          "base_uri": "https://localhost:8080/",
          "height": 34
        }
      },
      "source": [
        "test_generator = imagegen.flow_from_directory(\n",
        "    directory='/content/drive/My Drive/Emerging Technologies Project - AI based trading platform/split_date_images',\n",
        "    class_mode='categorical',\n",
        "    target_size=(224,224),\n",
        "    subset='validation',\n",
        "    batch_size=BATCH)"
      ],
      "execution_count": 0,
      "outputs": [
        {
          "output_type": "stream",
          "text": [
            "Found 468 images belonging to 3 classes.\n"
          ],
          "name": "stdout"
        }
      ]
    },
    {
      "cell_type": "code",
      "metadata": {
        "id": "XZD1EgqjG4-p",
        "colab_type": "code",
        "outputId": "0678d478-6cdb-4f4f-84ba-fe038e5f10a3",
        "colab": {
          "base_uri": "https://localhost:8080/",
          "height": 305
        }
      },
      "source": [
        "from keras.models import load_model\n",
        "saved_model = load_model(\"test.h5\")\n",
        "output = saved_model.predict(img)\n",
        "\n",
        "from keras.preprocessing import image\n",
        "img = image.load_img(\"/content/drive/My Drive/Emerging Technologies Project - AI based trading platform/split_date_images/hold/hold_AAPL_1980-12-12.jpeg\",target_size=(224,224))\n",
        "img = np.asarray(img)\n",
        "plt.imshow(img)\n",
        "img = np.expand_dims(img, axis=0)\n",
        "\n",
        "output = saved_model.predict(img)\n",
        "print(output)\n",
        "class_dictionary[np.argmax(output)]"
      ],
      "execution_count": 0,
      "outputs": [
        {
          "output_type": "stream",
          "text": [
            "[[0. 1. 0.]]\n"
          ],
          "name": "stdout"
        },
        {
          "output_type": "execute_result",
          "data": {
            "text/plain": [
              "'hold'"
            ]
          },
          "metadata": {
            "tags": []
          },
          "execution_count": 19
        },
        {
          "output_type": "display_data",
          "data": {
            "image/png": "[encoded data removed]",
            "text/plain": [
              "<Figure size 432x288 with 1 Axes>"
            ]
          },
          "metadata": {
            "tags": []
          }
        }
      ]
    },
    {
      "cell_type": "code",
      "metadata": {
        "colab_type": "code",
        "outputId": "9c1c7af3-5cf8-470a-922e-078cf5e7a149",
        "id": "Yw4kYAzpIUEb",
        "colab": {
          "base_uri": "https://localhost:8080/",
          "height": 305
        }
      },
      "source": [
        "from keras.preprocessing import image\n",
        "img = image.load_img(\"/content/drive/My Drive/Emerging Technologies Project - AI based trading platform/test_stock.jpeg\",target_size=(224,224))\n",
        "img = np.asarray(img)\n",
        "plt.imshow(img)\n",
        "img = np.expand_dims(img, axis=0)\n",
        "\n",
        "output = model.predict(img)\n",
        "print(output)\n",
        "class_dictionary[np.argmax(output)]"
      ],
      "execution_count": 0,
      "outputs": [
        {
          "output_type": "stream",
          "text": [
            "[[0. 1. 0.]]\n"
          ],
          "name": "stdout"
        },
        {
          "output_type": "execute_result",
          "data": {
            "text/plain": [
              "'hold'"
            ]
          },
          "metadata": {
            "tags": []
          },
          "execution_count": 13
        },
        {
          "output_type": "display_data",
          "data": {
            "image/png": "[encoded data removed]",
            "text/plain": [
              "<Figure size 432x288 with 1 Axes>"
            ]
          },
          "metadata": {
            "tags": []
          }
        }
      ]
    },
    {
      "cell_type": "markdown",
      "metadata": {
        "id": "L7w6h9kYI4Ve",
        "colab_type": "text"
      },
      "source": [
        "\n",
        "\n",
        "---\n",
        "\n"
      ]
    }
  ]
}