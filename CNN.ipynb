{
  "nbformat": 4,
  "nbformat_minor": 0,
  "metadata": {
    "colab": {
      "name": "CNN.ipynb",
      "provenance": [],
      "collapsed_sections": [],
      "include_colab_link": true
    },
    "kernelspec": {
      "name": "python3",
      "display_name": "Python 3"
    },
    "accelerator": "GPU"
  },
  "cells": [
    {
      "cell_type": "markdown",
      "metadata": {
        "id": "view-in-github",
        "colab_type": "text"
      },
      "source": [
        "<a href=\"https://colab.research.google.com/github/jems2019/CMPE-297-98-Project/blob/master/CNN.ipynb\" target=\"_parent\"><img src=\"https://colab.research.google.com/assets/colab-badge.svg\" alt=\"Open In Colab\"/></a>"
      ]
    },
    {
      "cell_type": "code",
      "metadata": {
        "id": "zt57felJNeRq",
        "colab_type": "code",
        "outputId": "ef141b5d-b751-46b2-e250-802903a846ae",
        "colab": {
          "base_uri": "https://localhost:8080/",
          "height": 80
        }
      },
      "source": [
        "import numpy as np\n",
        "import pandas as pd\n",
        "from time import time\n",
        "import os\n",
        "\n",
        "\n",
        "from sklearn.model_selection import train_test_split\n",
        "\n",
        "\n",
        "# import keras\n",
        "# import keras.layers as layers\n",
        "# from keras.layers import Dense, Conv2D, MaxPool2D , Flatten, BatchNormalization, Activation\n",
        "# from keras.models import Sequential\n",
        "# from keras.preprocessing.image import ImageDataGenerator\n",
        "# from keras.utils.np_utils import to_categorical\n",
        "# from keras.callbacks import TensorBoard, ModelCheckpoint, EarlyStopping\n",
        "# from keras.optimizers import Adam, SGD\n",
        "\n",
        "\n",
        "import tensorflow as tf\n",
        "from tensorflow import keras\n",
        "from keras.callbacks import TensorBoard, ModelCheckpoint, EarlyStopping\n",
        "from tensorflow.keras.preprocessing.image import ImageDataGenerator\n",
        "from tensorflow.keras.layers import Conv2D, AveragePooling2D, MaxPool2D, Flatten, Dense, BatchNormalization, Dropout, Activation\n",
        "from tensorflow.keras.optimizers import Adam, SGD\n",
        "from tensorflow.keras.callbacks import LearningRateScheduler\n",
        "\n",
        "\n",
        "%matplotlib inline\n",
        "import matplotlib.pyplot as plt\n",
        "import seaborn as sns\n",
        "sns.set()\n"
      ],
      "execution_count": 0,
      "outputs": [
        {
          "output_type": "display_data",
          "data": {
            "text/html": [
              "<p style=\"color: red;\">\n",
              "The default version of TensorFlow in Colab will soon switch to TensorFlow 2.x.<br>\n",
              "We recommend you <a href=\"https://www.tensorflow.org/guide/migrate\" target=\"_blank\">upgrade</a> now \n",
              "or ensure your notebook will continue to use TensorFlow 1.x via the <code>%tensorflow_version 1.x</code> magic:\n",
              "<a href=\"https://colab.research.google.com/notebooks/tensorflow_version.ipynb\" target=\"_blank\">more info</a>.</p>\n"
            ],
            "text/plain": [
              "<IPython.core.display.HTML object>"
            ]
          },
          "metadata": {
            "tags": []
          }
        },
        {
          "output_type": "stream",
          "text": [
            "Using TensorFlow backend.\n"
          ],
          "name": "stderr"
        }
      ]
    },
    {
      "cell_type": "code",
      "metadata": {
        "id": "XMoFNcZcDgtX",
        "colab_type": "code",
        "outputId": "f89d8ddb-70cf-4c8e-8c6d-6c391ec8685c",
        "colab": {
          "base_uri": "https://localhost:8080/",
          "height": 122
        }
      },
      "source": [
        "from google.colab import drive\n",
        "drive.mount('/content/drive')"
      ],
      "execution_count": 0,
      "outputs": [
        {
          "output_type": "stream",
          "text": [
            "Go to this URL in a browser: https://accounts.google.com/o/oauth2/auth?client_id=947318989803-6bn6qk8qdgf4n4g3pfee6491hc0brc4i.apps.googleusercontent.com&redirect_uri=urn%3aietf%3awg%3aoauth%3a2.0%3aoob&response_type=code&scope=email%20https%3a%2f%2fwww.googleapis.com%2fauth%2fdocs.test%20https%3a%2f%2fwww.googleapis.com%2fauth%2fdrive%20https%3a%2f%2fwww.googleapis.com%2fauth%2fdrive.photos.readonly%20https%3a%2f%2fwww.googleapis.com%2fauth%2fpeopleapi.readonly\n",
            "\n",
            "Enter your authorization code:\n",
            "··········\n",
            "Mounted at /content/drive\n"
          ],
          "name": "stdout"
        }
      ]
    },
    {
      "cell_type": "code",
      "metadata": {
        "id": "MlkOHST7ES9J",
        "colab_type": "code",
        "outputId": "2df4d2ec-90aa-49d8-dd51-dda5b0298228",
        "colab": {
          "base_uri": "https://localhost:8080/",
          "height": 51
        }
      },
      "source": [
        "from tensorflow.keras.preprocessing.image import ImageDataGenerator\n",
        "BATCH = 32\n",
        "imagegen = ImageDataGenerator(\n",
        "    rescale=1./255,\n",
        "    zoom_range=.1,\n",
        "    width_shift_range=.1,\n",
        "    height_shift_range=.1,\n",
        "    rotation_range=30,\n",
        "    horizontal_flip=True,\n",
        "    validation_split=.2\n",
        "    )\n",
        "train_generator = imagegen.flow_from_directory(\n",
        "    directory='/content/drive/My Drive/Emerging Technologies Project - AI based trading platform/split_date_images',\n",
        "    class_mode='categorical',\n",
        "    target_size=(224,224),\n",
        "    subset='training',\n",
        "    batch_size=BATCH)\n",
        "val_generator = imagegen.flow_from_directory(\n",
        "    directory='/content/drive/My Drive/Emerging Technologies Project - AI based trading platform/split_date_images',\n",
        "    class_mode='categorical',\n",
        "    target_size=(224,224),\n",
        "    subset='validation',\n",
        "    batch_size=BATCH)"
      ],
      "execution_count": 0,
      "outputs": [
        {
          "output_type": "stream",
          "text": [
            "Found 1876 images belonging to 3 classes.\n",
            "Found 468 images belonging to 3 classes.\n"
          ],
          "name": "stdout"
        }
      ]
    },
    {
      "cell_type": "code",
      "metadata": {
        "id": "aLFkancDTh_X",
        "colab_type": "code",
        "outputId": "b9166a59-6b3f-4074-b1d2-248a1147aed3",
        "colab": {
          "base_uri": "https://localhost:8080/",
          "height": 34
        }
      },
      "source": [
        "# Getting the class indices from the data\n",
        "print(train_generator.class_indices)\n",
        "class_dictionary = train_generator.class_indices\n",
        "class_dictionary = list(class_dictionary.keys())"
      ],
      "execution_count": 0,
      "outputs": [
        {
          "output_type": "stream",
          "text": [
            "{'buy': 0, 'hold': 1, 'sell': 2}\n"
          ],
          "name": "stdout"
        }
      ]
    },
    {
      "cell_type": "code",
      "metadata": {
        "colab_type": "code",
        "id": "dV9241j3IUjx",
        "colab": {}
      },
      "source": [
        "# use the functional api\n",
        "\n",
        "tf.keras.backend.clear_session()\n",
        "resnet = keras.applications.ResNet50V2(include_top=False, weights='imagenet', input_shape=(224,224,3))\n",
        "# resnet = keras.applications.VGG16(include_top=False, input_shape=(224,224,3))\n",
        "\n",
        "resnet.trainable=False\n",
        "NUM_CLASSES = 3\n",
        "model = keras.Sequential([\n",
        "    resnet, \n",
        "    keras.layers.GlobalAveragePooling2D(),\n",
        "    keras.layers.Dropout(rate=0.25),\n",
        "    # keras.layers.Flatten(),\n",
        "    keras.layers.Dense(units=20, activation='relu'),\n",
        "    keras.layers.Dropout(rate=0.50),\n",
        "    keras.layers.Dense(NUM_CLASSES, activation='softmax')])\n",
        "\n",
        "opt = Adam(lr=0.001)\n",
        "model.compile(\n",
        "    optimizer=opt, \n",
        "    loss=keras.losses.categorical_crossentropy, \n",
        "    metrics=['accuracy'])\n"
      ],
      "execution_count": 0,
      "outputs": []
    },
    {
      "cell_type": "code",
      "metadata": {
        "colab_type": "code",
        "outputId": "2dd9bbf6-cc38-4cf4-aaa1-c0c0df4ed92d",
        "id": "_jld0d-CIVaC",
        "colab": {
          "base_uri": "https://localhost:8080/",
          "height": 1000
        }
      },
      "source": [
        "# steps per epoch = length of training data\n",
        "\n",
        "checkpoint = ModelCheckpoint(\"resnet.h5\", monitor='val_acc', verbose=1, save_best_only=True, save_weights_only=False, mode='auto', period=1)\n",
        "early = EarlyStopping(monitor='val_acc', min_delta=0, patience=20, verbose=1, mode='auto')\n",
        "\n",
        "hist = model.fit_generator(steps_per_epoch=len(train_generator),\n",
        "                           generator=train_generator, validation_data= val_generator, \n",
        "                           validation_steps=len(val_generator),epochs=100, shuffle=True, callbacks=[checkpoint,early])"
      ],
      "execution_count": 0,
      "outputs": [
        {
          "output_type": "stream",
          "text": [
            "Epoch 1/100\n",
            "58/59 [============================>.] - ETA: 1s - loss: 1.0395 - acc: 0.4398Epoch 1/100\n",
            "15/59 [======>.......................] - ETA: 1:09 - loss: 0.9997 - acc: 0.4573\n",
            "Epoch 00001: val_acc improved from -inf to 0.45726, saving model to resnet.h5\n",
            "59/59 [==============================] - 89s 2s/step - loss: 1.0399 - acc: 0.4398 - val_loss: 0.9997 - val_acc: 0.4573\n",
            "Epoch 2/100\n",
            "58/59 [============================>.] - ETA: 0s - loss: 1.0160 - acc: 0.4534Epoch 1/100\n",
            "15/59 [======>.......................] - ETA: 1:06 - loss: 0.9848 - acc: 0.4679\n",
            "Epoch 00002: val_acc improved from 0.45726 to 0.46795, saving model to resnet.h5\n",
            "59/59 [==============================] - 73s 1s/step - loss: 1.0156 - acc: 0.4520 - val_loss: 0.9848 - val_acc: 0.4679\n",
            "Epoch 3/100\n",
            "58/59 [============================>.] - ETA: 0s - loss: 1.0094 - acc: 0.4675Epoch 1/100\n",
            "15/59 [======>.......................] - ETA: 1:07 - loss: 0.9875 - acc: 0.4615\n",
            "Epoch 00003: val_acc did not improve from 0.46795\n",
            "59/59 [==============================] - 74s 1s/step - loss: 1.0111 - acc: 0.4686 - val_loss: 0.9875 - val_acc: 0.4615\n",
            "Epoch 4/100\n",
            "58/59 [============================>.] - ETA: 0s - loss: 0.9997 - acc: 0.4501Epoch 1/100\n",
            "15/59 [======>.......................] - ETA: 1:06 - loss: 0.9779 - acc: 0.4615\n",
            "Epoch 00004: val_acc did not improve from 0.46795\n",
            "59/59 [==============================] - 74s 1s/step - loss: 0.9985 - acc: 0.4515 - val_loss: 0.9779 - val_acc: 0.4615\n",
            "Epoch 5/100\n",
            "58/59 [============================>.] - ETA: 0s - loss: 1.0016 - acc: 0.4572Epoch 1/100\n",
            "15/59 [======>.......................] - ETA: 1:07 - loss: 0.9799 - acc: 0.4615\n",
            "Epoch 00005: val_acc did not improve from 0.46795\n",
            "59/59 [==============================] - 74s 1s/step - loss: 1.0005 - acc: 0.4552 - val_loss: 0.9799 - val_acc: 0.4615\n",
            "Epoch 6/100\n",
            "58/59 [============================>.] - ETA: 0s - loss: 0.9967 - acc: 0.4664Epoch 1/100\n",
            "15/59 [======>.......................] - ETA: 1:06 - loss: 0.9764 - acc: 0.4637\n",
            "Epoch 00006: val_acc did not improve from 0.46795\n",
            "59/59 [==============================] - 74s 1s/step - loss: 0.9958 - acc: 0.4675 - val_loss: 0.9764 - val_acc: 0.4637\n",
            "Epoch 7/100\n",
            "58/59 [============================>.] - ETA: 0s - loss: 0.9992 - acc: 0.4729Epoch 1/100\n",
            "15/59 [======>.......................] - ETA: 1:06 - loss: 0.9875 - acc: 0.4615\n",
            "Epoch 00007: val_acc did not improve from 0.46795\n",
            "59/59 [==============================] - 73s 1s/step - loss: 0.9991 - acc: 0.4739 - val_loss: 0.9875 - val_acc: 0.4615\n",
            "Epoch 8/100\n",
            "58/59 [============================>.] - ETA: 0s - loss: 0.9959 - acc: 0.4751Epoch 1/100\n",
            "15/59 [======>.......................] - ETA: 1:06 - loss: 0.9836 - acc: 0.4615\n",
            "Epoch 00008: val_acc did not improve from 0.46795\n",
            "59/59 [==============================] - 73s 1s/step - loss: 0.9956 - acc: 0.4739 - val_loss: 0.9836 - val_acc: 0.4615\n",
            "Epoch 9/100\n",
            "58/59 [============================>.] - ETA: 0s - loss: 0.9969 - acc: 0.4653Epoch 1/100\n",
            "15/59 [======>.......................] - ETA: 1:05 - loss: 0.9777 - acc: 0.4615\n",
            "Epoch 00009: val_acc did not improve from 0.46795\n",
            "59/59 [==============================] - 73s 1s/step - loss: 0.9951 - acc: 0.4659 - val_loss: 0.9777 - val_acc: 0.4615\n",
            "Epoch 10/100\n",
            "58/59 [============================>.] - ETA: 0s - loss: 0.9869 - acc: 0.4957Epoch 1/100\n",
            "15/59 [======>.......................] - ETA: 1:06 - loss: 0.9979 - acc: 0.4615\n",
            "Epoch 00010: val_acc did not improve from 0.46795\n",
            "59/59 [==============================] - 74s 1s/step - loss: 0.9872 - acc: 0.4952 - val_loss: 0.9979 - val_acc: 0.4615\n",
            "Epoch 11/100\n",
            "58/59 [============================>.] - ETA: 0s - loss: 0.9871 - acc: 0.4848Epoch 1/100\n",
            "15/59 [======>.......................] - ETA: 1:04 - loss: 1.0092 - acc: 0.4615\n",
            "Epoch 00011: val_acc did not improve from 0.46795\n",
            "59/59 [==============================] - 72s 1s/step - loss: 0.9848 - acc: 0.4883 - val_loss: 1.0092 - val_acc: 0.4615\n",
            "Epoch 12/100\n",
            "58/59 [============================>.] - ETA: 0s - loss: 0.9879 - acc: 0.4973Epoch 1/100\n",
            "15/59 [======>.......................] - ETA: 1:06 - loss: 0.9949 - acc: 0.4615\n",
            "Epoch 00012: val_acc did not improve from 0.46795\n",
            "59/59 [==============================] - 73s 1s/step - loss: 0.9883 - acc: 0.4968 - val_loss: 0.9949 - val_acc: 0.4615\n",
            "Epoch 13/100\n",
            "58/59 [============================>.] - ETA: 0s - loss: 0.9841 - acc: 0.5027Epoch 1/100\n",
            "15/59 [======>.......................] - ETA: 1:06 - loss: 0.9969 - acc: 0.4615\n",
            "Epoch 00013: val_acc did not improve from 0.46795\n",
            "59/59 [==============================] - 74s 1s/step - loss: 0.9824 - acc: 0.5032 - val_loss: 0.9969 - val_acc: 0.4615\n",
            "Epoch 14/100\n",
            "58/59 [============================>.] - ETA: 0s - loss: 0.9778 - acc: 0.4778Epoch 1/100\n",
            "15/59 [======>.......................] - ETA: 1:05 - loss: 1.0404 - acc: 0.4615\n",
            "Epoch 00014: val_acc did not improve from 0.46795\n",
            "59/59 [==============================] - 73s 1s/step - loss: 0.9772 - acc: 0.4776 - val_loss: 1.0404 - val_acc: 0.4615\n",
            "Epoch 15/100\n",
            "58/59 [============================>.] - ETA: 0s - loss: 0.9879 - acc: 0.4854Epoch 1/100\n",
            "15/59 [======>.......................] - ETA: 1:06 - loss: 1.0234 - acc: 0.4615\n",
            "Epoch 00015: val_acc did not improve from 0.46795\n",
            "59/59 [==============================] - 73s 1s/step - loss: 0.9857 - acc: 0.4867 - val_loss: 1.0234 - val_acc: 0.4615\n",
            "Epoch 16/100\n",
            "58/59 [============================>.] - ETA: 0s - loss: 0.9844 - acc: 0.4789Epoch 1/100\n",
            "15/59 [======>.......................] - ETA: 1:06 - loss: 1.0256 - acc: 0.4615\n",
            "Epoch 00016: val_acc did not improve from 0.46795\n",
            "59/59 [==============================] - 73s 1s/step - loss: 0.9849 - acc: 0.4797 - val_loss: 1.0256 - val_acc: 0.4615\n",
            "Epoch 17/100\n",
            "58/59 [============================>.] - ETA: 0s - loss: 0.9788 - acc: 0.4984Epoch 1/100\n",
            "15/59 [======>.......................] - ETA: 1:06 - loss: 1.0680 - acc: 0.4615\n",
            "Epoch 00017: val_acc did not improve from 0.46795\n",
            "59/59 [==============================] - 73s 1s/step - loss: 0.9795 - acc: 0.4984 - val_loss: 1.0680 - val_acc: 0.4615\n",
            "Epoch 18/100\n",
            "58/59 [============================>.] - ETA: 0s - loss: 0.9838 - acc: 0.4870Epoch 1/100\n",
            "15/59 [======>.......................] - ETA: 1:05 - loss: 1.0450 - acc: 0.4615\n",
            "Epoch 00018: val_acc did not improve from 0.46795\n",
            "59/59 [==============================] - 73s 1s/step - loss: 0.9845 - acc: 0.4872 - val_loss: 1.0450 - val_acc: 0.4615\n",
            "Epoch 19/100\n",
            "58/59 [============================>.] - ETA: 0s - loss: 0.9744 - acc: 0.5081Epoch 1/100\n",
            "15/59 [======>.......................] - ETA: 1:05 - loss: 1.0580 - acc: 0.4615\n",
            "Epoch 00019: val_acc did not improve from 0.46795\n",
            "59/59 [==============================] - 72s 1s/step - loss: 0.9746 - acc: 0.5085 - val_loss: 1.0580 - val_acc: 0.4615\n",
            "Epoch 20/100\n",
            "58/59 [============================>.] - ETA: 0s - loss: 0.9857 - acc: 0.4789Epoch 1/100\n",
            "15/59 [======>.......................] - ETA: 1:04 - loss: 1.0613 - acc: 0.4615\n",
            "Epoch 00020: val_acc did not improve from 0.46795\n",
            "59/59 [==============================] - 72s 1s/step - loss: 0.9851 - acc: 0.4797 - val_loss: 1.0613 - val_acc: 0.4615\n",
            "Epoch 21/100\n",
            "58/59 [============================>.] - ETA: 0s - loss: 0.9747 - acc: 0.5033Epoch 1/100\n",
            "15/59 [======>.......................] - ETA: 1:04 - loss: 1.0536 - acc: 0.4615\n",
            "Epoch 00021: val_acc did not improve from 0.46795\n",
            "59/59 [==============================] - 71s 1s/step - loss: 0.9743 - acc: 0.5032 - val_loss: 1.0536 - val_acc: 0.4615\n",
            "Epoch 22/100\n",
            "58/59 [============================>.] - ETA: 0s - loss: 0.9779 - acc: 0.4908Epoch 1/100\n",
            "15/59 [======>.......................] - ETA: 1:05 - loss: 1.1249 - acc: 0.4615\n",
            "Epoch 00022: val_acc did not improve from 0.46795\n",
            "59/59 [==============================] - 72s 1s/step - loss: 0.9781 - acc: 0.4888 - val_loss: 1.1249 - val_acc: 0.4615\n",
            "Epoch 00022: early stopping\n"
          ],
          "name": "stdout"
        }
      ]
    },
    {
      "cell_type": "code",
      "metadata": {
        "id": "uKEbwEp5Q96-",
        "colab_type": "code",
        "outputId": "adb4940e-75c7-49f9-d6d1-2745dafc0bea",
        "colab": {
          "base_uri": "https://localhost:8080/",
          "height": 301
        }
      },
      "source": [
        "import matplotlib.pyplot as plt\n",
        "plt.plot(hist.history[\"acc\"])\n",
        "plt.plot(hist.history['val_acc'])\n",
        "plt.plot(hist.history['loss'])\n",
        "plt.plot(hist.history['val_loss'])\n",
        "plt.title(\"model accuracy\")\n",
        "plt.ylabel(\"Accuracy\")\n",
        "plt.xlabel(\"Epoch\")\n",
        "plt.legend([\"Accuracy\",\"Validation Accuracy\",\"loss\",\"Validation Loss\"])\n",
        "plt.show()\n"
      ],
      "execution_count": 0,
      "outputs": [
        {
          "output_type": "display_data",
          "data": {
            "image/png": "[encoded data removed]",
            "text/plain": [
              "<Figure size 432x288 with 1 Axes>"
            ]
          },
          "metadata": {
            "tags": []
          }
        }
      ]
    },
    {
      "cell_type": "code",
      "metadata": {
        "id": "k-CLKGCmQ4Pq",
        "colab_type": "code",
        "outputId": "ca84f28b-dfed-4ff2-abdb-bcca3df82d5f",
        "colab": {
          "base_uri": "https://localhost:8080/",
          "height": 305
        }
      },
      "source": [
        "from keras.models import load_model\n",
        "# saved_model = load_model(\"/content/resnet.h5\")\n",
        "# output = saved_model.predict(img)\n",
        "\n",
        "from keras.preprocessing import image\n",
        "img = image.load_img(\"/content/drive/My Drive/Emerging Technologies Project - AI based trading platform/split_date_images_test/sell/sell_FB_2013-04-01.jpeg\",target_size=(224,224))\n",
        "img = np.asarray(img)\n",
        "plt.imshow(img)\n",
        "img = np.expand_dims(img, axis=0)\n",
        "\n",
        "output = model.predict(img)\n",
        "print(output)\n",
        "class_dictionary[np.argmax(output)]"
      ],
      "execution_count": 0,
      "outputs": [
        {
          "output_type": "stream",
          "text": [
            "[[2.3685482e-24 1.0000000e+00 0.0000000e+00]]\n"
          ],
          "name": "stdout"
        },
        {
          "output_type": "execute_result",
          "data": {
            "text/plain": [
              "'hold'"
            ]
          },
          "metadata": {
            "tags": []
          },
          "execution_count": 14
        },
        {
          "output_type": "display_data",
          "data": {
            "image/png": "[encoded data removed]",
            "text/plain": [
              "<Figure size 432x288 with 1 Axes>"
            ]
          },
          "metadata": {
            "tags": []
          }
        }
      ]
    },
    {
      "cell_type": "markdown",
      "metadata": {
        "id": "051jR5iVQ3ep",
        "colab_type": "text"
      },
      "source": [
        "\n",
        "\n",
        "---\n",
        "\n"
      ]
    },
    {
      "cell_type": "code",
      "metadata": {
        "id": "DNqnL8gwANwI",
        "colab_type": "code",
        "colab": {}
      },
      "source": [
        "import keras\n",
        "import keras.layers as layers\n",
        "from keras.layers import Dense, Conv2D, MaxPool2D , Flatten, BatchNormalization, Activation\n",
        "from keras.models import Sequential\n",
        "from keras.preprocessing.image import ImageDataGenerator\n",
        "from keras.utils.np_utils import to_categorical\n",
        "from keras.callbacks import TensorBoard, ModelCheckpoint, EarlyStopping\n",
        "from keras.optimizers import Adam, SGD\n"
      ],
      "execution_count": 0,
      "outputs": []
    },
    {
      "cell_type": "code",
      "metadata": {
        "id": "ZL0JB7xraFZh",
        "colab_type": "code",
        "colab": {}
      },
      "source": [
        "def build_model():\n",
        "  model = Sequential()\n",
        "  model.add(Conv2D(input_shape=(224,224,3),filters=64,kernel_size=(3,3),padding=\"same\", activation=\"relu\"))\n",
        "  # model.add(Conv2D(filters=64,kernel_size=(3,3),padding=\"same\", activation=\"relu\"))\n",
        "  model.add(MaxPool2D(pool_size=(2,2),strides=(2,2)))\n",
        "\n",
        "\n",
        "  model.add(Conv2D(filters=128, kernel_size=(3,3), padding=\"same\", activation=\"relu\"))\n",
        "  # model.add(Conv2D(filters=128, kernel_size=(3,3), padding=\"same\", activation=\"relu\"))\n",
        "  model.add(MaxPool2D(pool_size=(2,2),strides=(2,2)))\n",
        "\n",
        "\n",
        "  model.add(Conv2D(filters=256, kernel_size=(3,3), padding=\"same\", activation=\"relu\"))\n",
        "  model.add(Conv2D(filters=256, kernel_size=(3,3), padding=\"same\", activation=\"relu\"))\n",
        "  # model.add(Conv2D(filters=256, kernel_size=(3,3), padding=\"same\", activation=\"relu\"))\n",
        "  model.add(MaxPool2D(pool_size=(2,2),strides=(2,2)))\n",
        "\n",
        "\n",
        "  model.add(Conv2D(filters=512, kernel_size=(3,3), padding=\"same\", activation=\"relu\"))\n",
        "  model.add(Conv2D(filters=512, kernel_size=(3,3), padding=\"same\", activation=\"relu\"))\n",
        "  # model.add(Conv2D(filters=512, kernel_size=(3,3), padding=\"same\", activation=\"relu\"))\n",
        "  model.add(MaxPool2D(pool_size=(2,2),strides=(2,2)))\n",
        "\n",
        "\n",
        "  model.add(Conv2D(filters=512, kernel_size=(3,3), padding=\"same\", activation=\"relu\"))\n",
        "  model.add(Conv2D(filters=512, kernel_size=(3,3), padding=\"same\", activation=\"relu\"))\n",
        "  # model.add(Conv2D(filters=512, kernel_size=(3,3), padding=\"same\", activation=\"relu\"))\n",
        "  model.add(MaxPool2D(pool_size=(2,2),strides=(2,2)))\n",
        "\n",
        "  model.add(Flatten())\n",
        "  model.add(BatchNormalization())\n",
        "  model.add(Dense(units=128))\n",
        "  model.add(Activation(\"relu\"))\n",
        "  model.add(BatchNormalization())\n",
        "  model.add(Dense(units=64))\n",
        "  model.add(Activation(\"relu\"))\n",
        "\n",
        "  model.add(Dense(units=3, activation=\"softmax\"))\n",
        "\n",
        "  return model"
      ],
      "execution_count": 0,
      "outputs": []
    },
    {
      "cell_type": "code",
      "metadata": {
        "id": "Xvrbs6Jw_q7B",
        "colab_type": "code",
        "outputId": "017e9d1c-e342-40cb-c2aa-63f5a91a7d3b",
        "colab": {
          "base_uri": "https://localhost:8080/",
          "height": 1000
        }
      },
      "source": [
        "tf.keras.backend.clear_session()\n",
        "\n",
        "# opt = SGD(lr = 0.0005)\n",
        "opt = Adam(lr=0.001)\n",
        "\n",
        "model = build_model()\n",
        "model.summary()\n",
        "\n",
        "model.compile(optimizer=opt, loss=keras.losses.binary_crossentropy, metrics=['accuracy'])"
      ],
      "execution_count": 0,
      "outputs": [
        {
          "output_type": "stream",
          "text": [
            "WARNING:tensorflow:From /usr/local/lib/python3.6/dist-packages/keras/backend/tensorflow_backend.py:66: The name tf.get_default_graph is deprecated. Please use tf.compat.v1.get_default_graph instead.\n",
            "\n",
            "WARNING:tensorflow:From /usr/local/lib/python3.6/dist-packages/keras/backend/tensorflow_backend.py:541: The name tf.placeholder is deprecated. Please use tf.compat.v1.placeholder instead.\n",
            "\n",
            "WARNING:tensorflow:From /usr/local/lib/python3.6/dist-packages/keras/backend/tensorflow_backend.py:4432: The name tf.random_uniform is deprecated. Please use tf.random.uniform instead.\n",
            "\n",
            "WARNING:tensorflow:From /usr/local/lib/python3.6/dist-packages/keras/backend/tensorflow_backend.py:4267: The name tf.nn.max_pool is deprecated. Please use tf.nn.max_pool2d instead.\n",
            "\n",
            "WARNING:tensorflow:From /usr/local/lib/python3.6/dist-packages/keras/backend/tensorflow_backend.py:148: The name tf.placeholder_with_default is deprecated. Please use tf.compat.v1.placeholder_with_default instead.\n",
            "\n",
            "Model: \"sequential_1\"\n",
            "_________________________________________________________________\n",
            "Layer (type)                 Output Shape              Param #   \n",
            "=================================================================\n",
            "conv2d_1 (Conv2D)            (None, 224, 224, 64)      1792      \n",
            "_________________________________________________________________\n",
            "max_pooling2d_1 (MaxPooling2 (None, 112, 112, 64)      0         \n",
            "_________________________________________________________________\n",
            "conv2d_2 (Conv2D)            (None, 112, 112, 128)     73856     \n",
            "_________________________________________________________________\n",
            "max_pooling2d_2 (MaxPooling2 (None, 56, 56, 128)       0         \n",
            "_________________________________________________________________\n",
            "conv2d_3 (Conv2D)            (None, 56, 56, 256)       295168    \n",
            "_________________________________________________________________\n",
            "conv2d_4 (Conv2D)            (None, 56, 56, 256)       590080    \n",
            "_________________________________________________________________\n",
            "max_pooling2d_3 (MaxPooling2 (None, 28, 28, 256)       0         \n",
            "_________________________________________________________________\n",
            "conv2d_5 (Conv2D)            (None, 28, 28, 512)       1180160   \n",
            "_________________________________________________________________\n",
            "conv2d_6 (Conv2D)            (None, 28, 28, 512)       2359808   \n",
            "_________________________________________________________________\n",
            "max_pooling2d_4 (MaxPooling2 (None, 14, 14, 512)       0         \n",
            "_________________________________________________________________\n",
            "conv2d_7 (Conv2D)            (None, 14, 14, 512)       2359808   \n",
            "_________________________________________________________________\n",
            "conv2d_8 (Conv2D)            (None, 14, 14, 512)       2359808   \n",
            "_________________________________________________________________\n",
            "max_pooling2d_5 (MaxPooling2 (None, 7, 7, 512)         0         \n",
            "_________________________________________________________________\n",
            "flatten_1 (Flatten)          (None, 25088)             0         \n",
            "_________________________________________________________________\n",
            "batch_normalization_1 (Batch (None, 25088)             100352    \n",
            "_________________________________________________________________\n",
            "dense_1 (Dense)              (None, 128)               3211392   \n",
            "_________________________________________________________________\n",
            "activation_1 (Activation)    (None, 128)               0         \n",
            "_________________________________________________________________\n",
            "batch_normalization_2 (Batch (None, 128)               512       \n",
            "_________________________________________________________________\n",
            "dense_2 (Dense)              (None, 64)                8256      \n",
            "_________________________________________________________________\n",
            "activation_2 (Activation)    (None, 64)                0         \n",
            "_________________________________________________________________\n",
            "dense_3 (Dense)              (None, 3)                 195       \n",
            "=================================================================\n",
            "Total params: 12,541,187\n",
            "Trainable params: 12,490,755\n",
            "Non-trainable params: 50,432\n",
            "_________________________________________________________________\n",
            "WARNING:tensorflow:From /usr/local/lib/python3.6/dist-packages/keras/optimizers.py:793: The name tf.train.Optimizer is deprecated. Please use tf.compat.v1.train.Optimizer instead.\n",
            "\n",
            "WARNING:tensorflow:From /usr/local/lib/python3.6/dist-packages/keras/backend/tensorflow_backend.py:3657: The name tf.log is deprecated. Please use tf.math.log instead.\n",
            "\n",
            "WARNING:tensorflow:From /usr/local/lib/python3.6/dist-packages/tensorflow_core/python/ops/nn_impl.py:183: where (from tensorflow.python.ops.array_ops) is deprecated and will be removed in a future version.\n",
            "Instructions for updating:\n",
            "Use tf.where in 2.0, which has the same broadcast rule as np.where\n"
          ],
          "name": "stdout"
        }
      ]
    },
    {
      "cell_type": "code",
      "metadata": {
        "id": "qkxFafNJZkjK",
        "colab_type": "code",
        "outputId": "5793f8a9-9c48-402f-a5ba-045b5aba9f85",
        "colab": {
          "base_uri": "https://localhost:8080/",
          "height": 1000
        }
      },
      "source": [
        "# steps per epoch = length of training data\n",
        "\n",
        "checkpoint = ModelCheckpoint(\"test.h5\", monitor='val_acc', verbose=1, save_best_only=True, save_weights_only=False, mode='auto', period=1)\n",
        "early = EarlyStopping(monitor='val_acc', min_delta=0, patience=20, verbose=1, mode='auto')\n",
        "\n",
        "hist = model.fit_generator(steps_per_epoch=len(train_generator),\n",
        "                           generator=train_generator, validation_data= val_generator, \n",
        "                           validation_steps=len(val_generator),epochs=100, shuffle=True, callbacks=[checkpoint,early])"
      ],
      "execution_count": 0,
      "outputs": [
        {
          "output_type": "stream",
          "text": [
            "WARNING:tensorflow:From /usr/local/lib/python3.6/dist-packages/keras/backend/tensorflow_backend.py:1033: The name tf.assign_add is deprecated. Please use tf.compat.v1.assign_add instead.\n",
            "\n",
            "WARNING:tensorflow:From /usr/local/lib/python3.6/dist-packages/keras/backend/tensorflow_backend.py:1020: The name tf.assign is deprecated. Please use tf.compat.v1.assign instead.\n",
            "\n",
            "WARNING:tensorflow:From /usr/local/lib/python3.6/dist-packages/keras/backend/tensorflow_backend.py:3005: The name tf.Session is deprecated. Please use tf.compat.v1.Session instead.\n",
            "\n",
            "Epoch 1/100\n",
            "WARNING:tensorflow:From /usr/local/lib/python3.6/dist-packages/keras/backend/tensorflow_backend.py:190: The name tf.get_default_session is deprecated. Please use tf.compat.v1.get_default_session instead.\n",
            "\n",
            "WARNING:tensorflow:From /usr/local/lib/python3.6/dist-packages/keras/backend/tensorflow_backend.py:197: The name tf.ConfigProto is deprecated. Please use tf.compat.v1.ConfigProto instead.\n",
            "\n",
            "WARNING:tensorflow:From /usr/local/lib/python3.6/dist-packages/keras/backend/tensorflow_backend.py:207: The name tf.global_variables is deprecated. Please use tf.compat.v1.global_variables instead.\n",
            "\n",
            "WARNING:tensorflow:From /usr/local/lib/python3.6/dist-packages/keras/backend/tensorflow_backend.py:216: The name tf.is_variable_initialized is deprecated. Please use tf.compat.v1.is_variable_initialized instead.\n",
            "\n",
            "WARNING:tensorflow:From /usr/local/lib/python3.6/dist-packages/keras/backend/tensorflow_backend.py:223: The name tf.variables_initializer is deprecated. Please use tf.compat.v1.variables_initializer instead.\n",
            "\n",
            "59/59 [==============================] - 741s 13s/step - loss: 0.6643 - acc: 0.6474 - val_loss: 9.2482 - val_acc: 0.4231\n",
            "\n",
            "Epoch 00001: val_acc improved from -inf to 0.42308, saving model to test.h5\n",
            "Epoch 2/100\n",
            "59/59 [==============================] - 68s 1s/step - loss: 0.6126 - acc: 0.6584 - val_loss: 9.2482 - val_acc: 0.4231\n",
            "\n",
            "Epoch 00002: val_acc did not improve from 0.42308\n",
            "Epoch 3/100\n",
            "59/59 [==============================] - 76s 1s/step - loss: 0.5971 - acc: 0.6673 - val_loss: 5.9175 - val_acc: 0.6026\n",
            "\n",
            "Epoch 00003: val_acc improved from 0.42308 to 0.60256, saving model to test.h5\n",
            "Epoch 4/100\n",
            "59/59 [==============================] - 76s 1s/step - loss: 0.5927 - acc: 0.6744 - val_loss: 2.4167 - val_acc: 0.4729\n",
            "\n",
            "Epoch 00004: val_acc did not improve from 0.60256\n",
            "Epoch 5/100\n",
            "59/59 [==============================] - 76s 1s/step - loss: 0.5876 - acc: 0.6817 - val_loss: 9.2482 - val_acc: 0.4231\n",
            "\n",
            "Epoch 00005: val_acc did not improve from 0.60256\n",
            "Epoch 6/100\n",
            "59/59 [==============================] - 76s 1s/step - loss: 0.5781 - acc: 0.6941 - val_loss: 9.2482 - val_acc: 0.4231\n",
            "\n",
            "Epoch 00006: val_acc did not improve from 0.60256\n",
            "Epoch 7/100\n",
            "59/59 [==============================] - 76s 1s/step - loss: 0.5808 - acc: 0.6875 - val_loss: 9.2482 - val_acc: 0.4231\n",
            "\n",
            "Epoch 00007: val_acc did not improve from 0.60256\n",
            "Epoch 8/100\n",
            "59/59 [==============================] - 75s 1s/step - loss: 0.5705 - acc: 0.6973 - val_loss: 9.2482 - val_acc: 0.4231\n",
            "\n",
            "Epoch 00008: val_acc did not improve from 0.60256\n",
            "Epoch 9/100\n",
            "59/59 [==============================] - 75s 1s/step - loss: 0.5772 - acc: 0.6862 - val_loss: 9.2482 - val_acc: 0.4231\n",
            "\n",
            "Epoch 00009: val_acc did not improve from 0.60256\n",
            "Epoch 10/100\n",
            "59/59 [==============================] - 76s 1s/step - loss: 0.5775 - acc: 0.6925 - val_loss: 5.4690 - val_acc: 0.4231\n",
            "\n",
            "Epoch 00010: val_acc did not improve from 0.60256\n",
            "Epoch 11/100\n",
            "59/59 [==============================] - 76s 1s/step - loss: 0.5754 - acc: 0.6922 - val_loss: 9.2482 - val_acc: 0.4231\n",
            "\n",
            "Epoch 00011: val_acc did not improve from 0.60256\n",
            "Epoch 12/100\n",
            "59/59 [==============================] - 76s 1s/step - loss: 0.5684 - acc: 0.7020 - val_loss: 6.3710 - val_acc: 0.6026\n",
            "\n",
            "Epoch 00012: val_acc improved from 0.60256 to 0.60256, saving model to test.h5\n",
            "Epoch 13/100\n",
            "59/59 [==============================] - 76s 1s/step - loss: 0.5660 - acc: 0.7042 - val_loss: 1.1049 - val_acc: 0.6624\n",
            "\n",
            "Epoch 00013: val_acc improved from 0.60256 to 0.66239, saving model to test.h5\n",
            "Epoch 14/100\n",
            "59/59 [==============================] - 76s 1s/step - loss: 0.5630 - acc: 0.7102 - val_loss: 6.3710 - val_acc: 0.6026\n",
            "\n",
            "Epoch 00014: val_acc did not improve from 0.66239\n",
            "Epoch 15/100\n",
            "59/59 [==============================] - 76s 1s/step - loss: 0.5570 - acc: 0.7124 - val_loss: 5.6855 - val_acc: 0.6026\n",
            "\n",
            "Epoch 00015: val_acc did not improve from 0.66239\n",
            "Epoch 16/100\n",
            "59/59 [==============================] - 76s 1s/step - loss: 0.5572 - acc: 0.7129 - val_loss: 3.1948 - val_acc: 0.6026\n",
            "\n",
            "Epoch 00016: val_acc did not improve from 0.66239\n",
            "Epoch 17/100\n",
            "59/59 [==============================] - 76s 1s/step - loss: 0.5570 - acc: 0.7165 - val_loss: 6.3710 - val_acc: 0.6026\n",
            "\n",
            "Epoch 00017: val_acc did not improve from 0.66239\n",
            "Epoch 18/100\n",
            "59/59 [==============================] - 76s 1s/step - loss: 0.5568 - acc: 0.7091 - val_loss: 4.0004 - val_acc: 0.4231\n",
            "\n",
            "Epoch 00018: val_acc did not improve from 0.66239\n",
            "Epoch 19/100\n",
            "59/59 [==============================] - 77s 1s/step - loss: 0.5529 - acc: 0.7197 - val_loss: 4.4901 - val_acc: 0.6026\n",
            "\n",
            "Epoch 00019: val_acc did not improve from 0.66239\n",
            "Epoch 20/100\n",
            "59/59 [==============================] - 76s 1s/step - loss: 0.5561 - acc: 0.7159 - val_loss: 6.3710 - val_acc: 0.6026\n",
            "\n",
            "Epoch 00020: val_acc did not improve from 0.66239\n",
            "Epoch 21/100\n",
            "59/59 [==============================] - 77s 1s/step - loss: 0.5526 - acc: 0.7180 - val_loss: 6.3710 - val_acc: 0.6026\n",
            "\n",
            "Epoch 00021: val_acc did not improve from 0.66239\n",
            "Epoch 22/100\n",
            "59/59 [==============================] - 76s 1s/step - loss: 0.5451 - acc: 0.7277 - val_loss: 6.3710 - val_acc: 0.6026\n",
            "\n",
            "Epoch 00022: val_acc did not improve from 0.66239\n",
            "Epoch 23/100\n",
            "59/59 [==============================] - 76s 1s/step - loss: 0.5530 - acc: 0.7141 - val_loss: 2.9508 - val_acc: 0.5513\n",
            "\n",
            "Epoch 00023: val_acc did not improve from 0.66239\n",
            "Epoch 24/100\n",
            "59/59 [==============================] - 76s 1s/step - loss: 0.5459 - acc: 0.7286 - val_loss: 5.9177 - val_acc: 0.4231\n",
            "\n",
            "Epoch 00024: val_acc did not improve from 0.66239\n",
            "Epoch 25/100\n",
            "59/59 [==============================] - 76s 1s/step - loss: 0.5483 - acc: 0.7230 - val_loss: 0.7896 - val_acc: 0.6033\n",
            "\n",
            "Epoch 00025: val_acc did not improve from 0.66239\n",
            "Epoch 26/100\n",
            "59/59 [==============================] - 76s 1s/step - loss: 0.5477 - acc: 0.7300 - val_loss: 6.3710 - val_acc: 0.6026\n",
            "\n",
            "Epoch 00026: val_acc did not improve from 0.66239\n",
            "Epoch 27/100\n",
            "59/59 [==============================] - 76s 1s/step - loss: 0.5454 - acc: 0.7315 - val_loss: 6.3710 - val_acc: 0.6026\n",
            "\n",
            "Epoch 00027: val_acc did not improve from 0.66239\n",
            "Epoch 28/100\n",
            "59/59 [==============================] - 76s 1s/step - loss: 0.5425 - acc: 0.7369 - val_loss: 4.6861 - val_acc: 0.6026\n",
            "\n",
            "Epoch 00028: val_acc did not improve from 0.66239\n",
            "Epoch 29/100\n",
            "59/59 [==============================] - 76s 1s/step - loss: 0.5425 - acc: 0.7361 - val_loss: 7.3326 - val_acc: 0.4231\n",
            "\n",
            "Epoch 00029: val_acc did not improve from 0.66239\n",
            "Epoch 30/100\n",
            "59/59 [==============================] - 75s 1s/step - loss: 0.5424 - acc: 0.7291 - val_loss: 2.9645 - val_acc: 0.6011\n",
            "\n",
            "Epoch 00030: val_acc did not improve from 0.66239\n",
            "Epoch 31/100\n",
            "59/59 [==============================] - 76s 1s/step - loss: 0.5386 - acc: 0.7354 - val_loss: 6.3710 - val_acc: 0.6026\n",
            "\n",
            "Epoch 00031: val_acc did not improve from 0.66239\n",
            "Epoch 32/100\n",
            "59/59 [==============================] - 76s 1s/step - loss: 0.5459 - acc: 0.7248 - val_loss: 5.2438 - val_acc: 0.6026\n",
            "\n",
            "Epoch 00032: val_acc did not improve from 0.66239\n",
            "Epoch 33/100\n",
            "59/59 [==============================] - 76s 1s/step - loss: 0.5417 - acc: 0.7293 - val_loss: 5.3241 - val_acc: 0.4231\n",
            "\n",
            "Epoch 00033: val_acc did not improve from 0.66239\n",
            "Epoch 00033: early stopping\n"
          ],
          "name": "stdout"
        }
      ]
    },
    {
      "cell_type": "code",
      "metadata": {
        "id": "l0t06hc7P6V5",
        "colab_type": "code",
        "outputId": "fa90bb87-7d2d-4169-8698-99e466e5058c",
        "colab": {
          "base_uri": "https://localhost:8080/",
          "height": 301
        }
      },
      "source": [
        "import matplotlib.pyplot as plt\n",
        "plt.plot(hist.history[\"acc\"])\n",
        "plt.plot(hist.history['val_acc'])\n",
        "plt.plot(hist.history['loss'])\n",
        "plt.plot(hist.history['val_loss'])\n",
        "plt.title(\"model accuracy\")\n",
        "plt.ylabel(\"Accuracy\")\n",
        "plt.xlabel(\"Epoch\")\n",
        "plt.legend([\"Accuracy\",\"Validation Accuracy\",\"loss\",\"Validation Loss\"])\n",
        "plt.show()"
      ],
      "execution_count": 0,
      "outputs": [
        {
          "output_type": "display_data",
          "data": {
            "image/png": "[encoded data removed]",
            "text/plain": [
              "<Figure size 432x288 with 1 Axes>"
            ]
          },
          "metadata": {
            "tags": []
          }
        }
      ]
    },
    {
      "cell_type": "code",
      "metadata": {
        "id": "gG7R1HNlaey_",
        "colab_type": "code",
        "outputId": "b42c40a0-2f53-4903-b340-534a71a9e81e",
        "colab": {
          "base_uri": "https://localhost:8080/",
          "height": 34
        }
      },
      "source": [
        "test_generator = imagegen.flow_from_directory(\n",
        "    directory='/content/drive/My Drive/Emerging Technologies Project - AI based trading platform/split_date_images',\n",
        "    class_mode='categorical',\n",
        "    target_size=(224,224),\n",
        "    subset='validation',\n",
        "    batch_size=BATCH)"
      ],
      "execution_count": 0,
      "outputs": [
        {
          "output_type": "stream",
          "text": [
            "Found 468 images belonging to 3 classes.\n"
          ],
          "name": "stdout"
        }
      ]
    },
    {
      "cell_type": "code",
      "metadata": {
        "id": "XZD1EgqjG4-p",
        "colab_type": "code",
        "outputId": "0678d478-6cdb-4f4f-84ba-fe038e5f10a3",
        "colab": {
          "base_uri": "https://localhost:8080/",
          "height": 305
        }
      },
      "source": [
        "from keras.models import load_model\n",
        "saved_model = load_model(\"test.h5\")\n",
        "output = saved_model.predict(img)\n",
        "\n",
        "from keras.preprocessing import image\n",
        "img = image.load_img(\"/content/drive/My Drive/Emerging Technologies Project - AI based trading platform/split_date_images/hold/hold_AAPL_1980-12-12.jpeg\",target_size=(224,224))\n",
        "img = np.asarray(img)\n",
        "plt.imshow(img)\n",
        "img = np.expand_dims(img, axis=0)\n",
        "\n",
        "output = saved_model.predict(img)\n",
        "print(output)\n",
        "class_dictionary[np.argmax(output)]"
      ],
      "execution_count": 0,
      "outputs": [
        {
          "output_type": "stream",
          "text": [
            "[[0. 1. 0.]]\n"
          ],
          "name": "stdout"
        },
        {
          "output_type": "execute_result",
          "data": {
            "text/plain": [
              "'hold'"
            ]
          },
          "metadata": {
            "tags": []
          },
          "execution_count": 19
        },
        {
          "output_type": "display_data",
          "data": {
            "image/png": "[encoded data removed]",
            "text/plain": [
              "<Figure size 432x288 with 1 Axes>"
            ]
          },
          "metadata": {
            "tags": []
          }
        }
      ]
    },
    {
      "cell_type": "code",
      "metadata": {
        "colab_type": "code",
        "outputId": "9c1c7af3-5cf8-470a-922e-078cf5e7a149",
        "id": "Yw4kYAzpIUEb",
        "colab": {
          "base_uri": "https://localhost:8080/",
          "height": 305
        }
      },
      "source": [
        "from keras.preprocessing import image\n",
        "img = image.load_img(\"/content/drive/My Drive/Emerging Technologies Project - AI based trading platform/test_stock.jpeg\",target_size=(224,224))\n",
        "img = np.asarray(img)\n",
        "plt.imshow(img)\n",
        "img = np.expand_dims(img, axis=0)\n",
        "\n",
        "output = model.predict(img)\n",
        "print(output)\n",
        "class_dictionary[np.argmax(output)]"
      ],
      "execution_count": 0,
      "outputs": [
        {
          "output_type": "stream",
          "text": [
            "[[0. 1. 0.]]\n"
          ],
          "name": "stdout"
        },
        {
          "output_type": "execute_result",
          "data": {
            "text/plain": [
              "'hold'"
            ]
          },
          "metadata": {
            "tags": []
          },
          "execution_count": 13
        },
        {
          "output_type": "display_data",
          "data": {
            "image/png": "[encoded data removed]",
            "text/plain": [
              "<Figure size 432x288 with 1 Axes>"
            ]
          },
          "metadata": {
            "tags": []
          }
        }
      ]
    },
    {
      "cell_type": "markdown",
      "metadata": {
        "id": "L7w6h9kYI4Ve",
        "colab_type": "text"
      },
      "source": [
        "\n",
        "\n",
        "---\n",
        "\n"
      ]
    },
    {
      "cell_type": "code",
      "metadata": {
        "id": "OHsCK2fBWclT",
        "colab_type": "code",
        "colab": {}
      },
      "source": [
        ""
      ],
      "execution_count": 0,
      "outputs": []
    }
  ]
}